{
 "cells": [
  {
   "cell_type": "code",
   "execution_count": 1,
   "metadata": {},
   "outputs": [],
   "source": [
    "import numpy as np \n",
    "import pandas as pd\n",
    "from sklearn.tree import DecisionTreeClassifier"
   ]
  },
  {
   "cell_type": "code",
   "execution_count": 3,
   "metadata": {},
   "outputs": [
    {
     "data": {
      "text/html": [
       "<div>\n",
       "<style scoped>\n",
       "    .dataframe tbody tr th:only-of-type {\n",
       "        vertical-align: middle;\n",
       "    }\n",
       "\n",
       "    .dataframe tbody tr th {\n",
       "        vertical-align: top;\n",
       "    }\n",
       "\n",
       "    .dataframe thead th {\n",
       "        text-align: right;\n",
       "    }\n",
       "</style>\n",
       "<table border=\"1\" class=\"dataframe\">\n",
       "  <thead>\n",
       "    <tr style=\"text-align: right;\">\n",
       "      <th></th>\n",
       "      <th>Age</th>\n",
       "      <th>Sex</th>\n",
       "      <th>BP</th>\n",
       "      <th>Cholesterol</th>\n",
       "      <th>Na_to_K</th>\n",
       "      <th>Drug</th>\n",
       "    </tr>\n",
       "  </thead>\n",
       "  <tbody>\n",
       "    <tr>\n",
       "      <th>0</th>\n",
       "      <td>23</td>\n",
       "      <td>F</td>\n",
       "      <td>HIGH</td>\n",
       "      <td>HIGH</td>\n",
       "      <td>25.355</td>\n",
       "      <td>drugY</td>\n",
       "    </tr>\n",
       "    <tr>\n",
       "      <th>1</th>\n",
       "      <td>47</td>\n",
       "      <td>M</td>\n",
       "      <td>LOW</td>\n",
       "      <td>HIGH</td>\n",
       "      <td>13.093</td>\n",
       "      <td>drugC</td>\n",
       "    </tr>\n",
       "    <tr>\n",
       "      <th>2</th>\n",
       "      <td>47</td>\n",
       "      <td>M</td>\n",
       "      <td>LOW</td>\n",
       "      <td>HIGH</td>\n",
       "      <td>10.114</td>\n",
       "      <td>drugC</td>\n",
       "    </tr>\n",
       "    <tr>\n",
       "      <th>3</th>\n",
       "      <td>28</td>\n",
       "      <td>F</td>\n",
       "      <td>NORMAL</td>\n",
       "      <td>HIGH</td>\n",
       "      <td>7.798</td>\n",
       "      <td>drugX</td>\n",
       "    </tr>\n",
       "    <tr>\n",
       "      <th>4</th>\n",
       "      <td>61</td>\n",
       "      <td>F</td>\n",
       "      <td>LOW</td>\n",
       "      <td>HIGH</td>\n",
       "      <td>18.043</td>\n",
       "      <td>drugY</td>\n",
       "    </tr>\n",
       "  </tbody>\n",
       "</table>\n",
       "</div>"
      ],
      "text/plain": [
       "   Age Sex      BP Cholesterol  Na_to_K   Drug\n",
       "0   23   F    HIGH        HIGH   25.355  drugY\n",
       "1   47   M     LOW        HIGH   13.093  drugC\n",
       "2   47   M     LOW        HIGH   10.114  drugC\n",
       "3   28   F  NORMAL        HIGH    7.798  drugX\n",
       "4   61   F     LOW        HIGH   18.043  drugY"
      ]
     },
     "execution_count": 3,
     "metadata": {},
     "output_type": "execute_result"
    }
   ],
   "source": [
    "my_data = pd.read_csv(\"drug200.csv\", delimiter=\",\")\n",
    "my_data[0:5]"
   ]
  },
  {
   "cell_type": "markdown",
   "metadata": {},
   "source": [
    "6kb"
   ]
  },
  {
   "cell_type": "code",
   "execution_count": 4,
   "metadata": {},
   "outputs": [
    {
     "data": {
      "text/plain": [
       "array([[23, 'F', 'HIGH', 'HIGH', 25.355],\n",
       "       [47, 'M', 'LOW', 'HIGH', 13.093],\n",
       "       [47, 'M', 'LOW', 'HIGH', 10.113999999999999],\n",
       "       [28, 'F', 'NORMAL', 'HIGH', 7.797999999999999],\n",
       "       [61, 'F', 'LOW', 'HIGH', 18.043]], dtype=object)"
      ]
     },
     "execution_count": 4,
     "metadata": {},
     "output_type": "execute_result"
    }
   ],
   "source": [
    "X = my_data[['Age', 'Sex', 'BP', 'Cholesterol', 'Na_to_K']].values\n",
    "X[0:5]"
   ]
  },
  {
   "cell_type": "code",
   "execution_count": 5,
   "metadata": {},
   "outputs": [
    {
     "data": {
      "text/plain": [
       "array([[23, 0, 0, 0, 25.355],\n",
       "       [47, 1, 1, 0, 13.093],\n",
       "       [47, 1, 1, 0, 10.113999999999999],\n",
       "       [28, 0, 2, 0, 7.797999999999999],\n",
       "       [61, 0, 1, 0, 18.043]], dtype=object)"
      ]
     },
     "execution_count": 5,
     "metadata": {},
     "output_type": "execute_result"
    }
   ],
   "source": [
    "from sklearn import preprocessing\n",
    "le_sex = preprocessing.LabelEncoder()\n",
    "le_sex.fit(['F','M'])\n",
    "X[:,1] = le_sex.transform(X[:,1]) \n",
    "\n",
    "\n",
    "le_BP = preprocessing.LabelEncoder()\n",
    "le_BP.fit([ 'LOW', 'NORMAL', 'HIGH'])\n",
    "X[:,2] = le_BP.transform(X[:,2])\n",
    "\n",
    "\n",
    "le_Chol = preprocessing.LabelEncoder()\n",
    "le_Chol.fit([ 'NORMAL', 'HIGH'])\n",
    "X[:,3] = le_Chol.transform(X[:,3]) \n",
    "\n",
    "X[0:5]\n"
   ]
  },
  {
   "cell_type": "code",
   "execution_count": 6,
   "metadata": {},
   "outputs": [
    {
     "data": {
      "text/plain": [
       "0    drugY\n",
       "1    drugC\n",
       "2    drugC\n",
       "3    drugX\n",
       "4    drugY\n",
       "Name: Drug, dtype: object"
      ]
     },
     "execution_count": 6,
     "metadata": {},
     "output_type": "execute_result"
    }
   ],
   "source": [
    "y = my_data[\"Drug\"]\n",
    "y[0:5]"
   ]
  },
  {
   "cell_type": "code",
   "execution_count": 7,
   "metadata": {},
   "outputs": [],
   "source": [
    "from sklearn.model_selection import train_test_split"
   ]
  },
  {
   "cell_type": "code",
   "execution_count": 8,
   "metadata": {},
   "outputs": [],
   "source": [
    "X_trainset, X_testset, y_trainset, y_testset = train_test_split(X, y, test_size=0.3, random_state=3)"
   ]
  },
  {
   "cell_type": "code",
   "execution_count": 9,
   "metadata": {},
   "outputs": [
    {
     "name": "stdout",
     "output_type": "stream",
     "text": [
      "Train set: (160, 5) (160,)\n",
      "Test set: (40, 5) (40,)\n"
     ]
    }
   ],
   "source": [
    "from sklearn.model_selection import train_test_split\n",
    "X_train, X_test, y_train, y_test = train_test_split( X, y, test_size=0.2, random_state=4)\n",
    "print ('Train set:', X_train.shape,  y_train.shape)\n",
    "print ('Test set:', X_test.shape,  y_test.shape)"
   ]
  },
  {
   "cell_type": "code",
   "execution_count": 10,
   "metadata": {},
   "outputs": [
    {
     "data": {
      "text/plain": [
       "DecisionTreeClassifier(criterion='entropy', max_depth=4)"
      ]
     },
     "execution_count": 10,
     "metadata": {},
     "output_type": "execute_result"
    }
   ],
   "source": [
    "drugTree = DecisionTreeClassifier(criterion=\"entropy\", max_depth = 4)\n",
    "drugTree # it shows the default parameters"
   ]
  },
  {
   "cell_type": "code",
   "execution_count": 11,
   "metadata": {},
   "outputs": [
    {
     "data": {
      "text/plain": [
       "DecisionTreeClassifier(criterion='entropy', max_depth=4)"
      ]
     },
     "execution_count": 11,
     "metadata": {},
     "output_type": "execute_result"
    }
   ],
   "source": [
    "drugTree.fit(X_trainset,y_trainset)"
   ]
  },
  {
   "cell_type": "code",
   "execution_count": 12,
   "metadata": {},
   "outputs": [],
   "source": [
    "predTree = drugTree.predict(X_testset)"
   ]
  },
  {
   "cell_type": "code",
   "execution_count": 13,
   "metadata": {},
   "outputs": [
    {
     "name": "stdout",
     "output_type": "stream",
     "text": [
      "['drugY' 'drugX' 'drugX' 'drugX' 'drugX']\n",
      "40     drugY\n",
      "51     drugX\n",
      "139    drugX\n",
      "197    drugX\n",
      "170    drugX\n",
      "Name: Drug, dtype: object\n"
     ]
    }
   ],
   "source": [
    "print (predTree [0:5])\n",
    "print (y_testset [0:5])"
   ]
  },
  {
   "cell_type": "code",
   "execution_count": 14,
   "metadata": {},
   "outputs": [
    {
     "name": "stdout",
     "output_type": "stream",
     "text": [
      "DecisionTrees's Accuracy:  0.9833333333333333\n"
     ]
    }
   ],
   "source": [
    "from sklearn import metrics\n",
    "import matplotlib.pyplot as plt\n",
    "print(\"DecisionTrees's Accuracy: \", metrics.accuracy_score(y_testset, predTree))"
   ]
  },
  {
   "cell_type": "code",
   "execution_count": 1,
   "metadata": {},
   "outputs": [
    {
     "name": "stdout",
     "output_type": "stream",
     "text": [
      "Collecting package metadata (current_repodata.json): ...working... done\n",
      "Solving environment: ...working... \n",
      "Warning: 4 possible package resolutions (only showing differing packages):\n",
      "  - anaconda/win-64::ca-certificates-2020.6.24-0, anaconda/win-64::certifi-2020.6.20-py38_0\n",
      "  - anaconda/win-64::certifi-2020.6.20-py38_0, defaults/win-64::ca-certificates-2020.6.24-0\n",
      "  - anaconda/win-64::ca-certificates-2020.6.24-0, defaults/win-64::certifi-2020.6.20-py38_0\n",
      "  - defaults/win-64::ca-certificates-2020.6.24-0, defaults/win-64::certifi-2020.6.20-py38_0done\n",
      "\n",
      "## Package Plan ##\n",
      "\n",
      "  environment location: C:\\Users\\User\\anaconda3\n",
      "\n",
      "  added / updated specs:\n",
      "    - pydotplus\n",
      "\n",
      "\n",
      "The following packages will be downloaded:\n",
      "\n",
      "    package                    |            build\n",
      "    ---------------------------|-----------------\n",
      "    conda-4.8.5                |   py38h9bdc248_2         3.1 MB  conda-forge\n",
      "    graphviz-2.38.0            |    h6538335_1011        41.0 MB  conda-forge\n",
      "    pydotplus-2.0.2            |             py_2          23 KB  conda-forge\n",
      "    ------------------------------------------------------------\n",
      "                                           Total:        44.0 MB\n",
      "\n",
      "The following NEW packages will be INSTALLED:\n",
      "\n",
      "  graphviz           conda-forge/win-64::graphviz-2.38.0-h6538335_1011\n",
      "  pydotplus          conda-forge/noarch::pydotplus-2.0.2-py_2\n",
      "\n",
      "The following packages will be UPDATED:\n",
      "\n",
      "  conda                                4.8.5-py38h32f6830_1 --> 4.8.5-py38h9bdc248_2\n",
      "\n",
      "\n",
      "\n",
      "Downloading and Extracting Packages\n",
      "\n",
      "graphviz-2.38.0      | 41.0 MB   |            |   0% \n",
      "graphviz-2.38.0      | 41.0 MB   |            |   0% \n",
      "graphviz-2.38.0      | 41.0 MB   |            |   0% \n",
      "graphviz-2.38.0      | 41.0 MB   | 1          |   1% \n",
      "graphviz-2.38.0      | 41.0 MB   | 1          |   2% \n",
      "graphviz-2.38.0      | 41.0 MB   | 2          |   3% \n",
      "graphviz-2.38.0      | 41.0 MB   | 3          |   4% \n",
      "graphviz-2.38.0      | 41.0 MB   | 4          |   5% \n",
      "graphviz-2.38.0      | 41.0 MB   | 5          |   5% \n",
      "graphviz-2.38.0      | 41.0 MB   | 5          |   6% \n",
      "graphviz-2.38.0      | 41.0 MB   | 6          |   7% \n",
      "graphviz-2.38.0      | 41.0 MB   | 7          |   8% \n",
      "graphviz-2.38.0      | 41.0 MB   | 8          |   9% \n",
      "graphviz-2.38.0      | 41.0 MB   | 9          |   9% \n",
      "graphviz-2.38.0      | 41.0 MB   | #          |  10% \n",
      "graphviz-2.38.0      | 41.0 MB   | #          |  11% \n",
      "graphviz-2.38.0      | 41.0 MB   | #1         |  11% \n",
      "graphviz-2.38.0      | 41.0 MB   | #2         |  12% \n",
      "graphviz-2.38.0      | 41.0 MB   | #2         |  13% \n",
      "graphviz-2.38.0      | 41.0 MB   | #3         |  13% \n",
      "graphviz-2.38.0      | 41.0 MB   | #4         |  14% \n",
      "graphviz-2.38.0      | 41.0 MB   | #4         |  15% \n",
      "graphviz-2.38.0      | 41.0 MB   | #5         |  15% \n",
      "graphviz-2.38.0      | 41.0 MB   | #6         |  16% \n",
      "graphviz-2.38.0      | 41.0 MB   | #6         |  17% \n",
      "graphviz-2.38.0      | 41.0 MB   | #7         |  17% \n",
      "graphviz-2.38.0      | 41.0 MB   | #8         |  18% \n",
      "graphviz-2.38.0      | 41.0 MB   | #8         |  19% \n",
      "graphviz-2.38.0      | 41.0 MB   | #9         |  20% \n",
      "graphviz-2.38.0      | 41.0 MB   | ##         |  20% \n",
      "graphviz-2.38.0      | 41.0 MB   | ##         |  21% \n",
      "graphviz-2.38.0      | 41.0 MB   | ##1        |  21% \n",
      "graphviz-2.38.0      | 41.0 MB   | ##2        |  22% \n",
      "graphviz-2.38.0      | 41.0 MB   | ##2        |  23% \n",
      "graphviz-2.38.0      | 41.0 MB   | ##3        |  23% \n",
      "graphviz-2.38.0      | 41.0 MB   | ##4        |  24% \n",
      "graphviz-2.38.0      | 41.0 MB   | ##4        |  25% \n",
      "graphviz-2.38.0      | 41.0 MB   | ##5        |  25% \n",
      "graphviz-2.38.0      | 41.0 MB   | ##6        |  26% \n",
      "graphviz-2.38.0      | 41.0 MB   | ##6        |  27% \n",
      "graphviz-2.38.0      | 41.0 MB   | ##7        |  27% \n",
      "graphviz-2.38.0      | 41.0 MB   | ##7        |  28% \n",
      "graphviz-2.38.0      | 41.0 MB   | ##8        |  29% \n",
      "graphviz-2.38.0      | 41.0 MB   | ##9        |  29% \n",
      "graphviz-2.38.0      | 41.0 MB   | ###        |  30% \n",
      "graphviz-2.38.0      | 41.0 MB   | ###        |  31% \n",
      "graphviz-2.38.0      | 41.0 MB   | ###1       |  31% \n",
      "graphviz-2.38.0      | 41.0 MB   | ###2       |  32% \n",
      "graphviz-2.38.0      | 41.0 MB   | ###2       |  33% \n",
      "graphviz-2.38.0      | 41.0 MB   | ###3       |  33% \n",
      "graphviz-2.38.0      | 41.0 MB   | ###4       |  34% \n",
      "graphviz-2.38.0      | 41.0 MB   | ###4       |  35% \n",
      "graphviz-2.38.0      | 41.0 MB   | ###5       |  35% \n",
      "graphviz-2.38.0      | 41.0 MB   | ###6       |  36% \n",
      "graphviz-2.38.0      | 41.0 MB   | ###6       |  37% \n",
      "graphviz-2.38.0      | 41.0 MB   | ###7       |  37% \n",
      "graphviz-2.38.0      | 41.0 MB   | ###7       |  38% \n",
      "graphviz-2.38.0      | 41.0 MB   | ###8       |  39% \n",
      "graphviz-2.38.0      | 41.0 MB   | ###9       |  39% \n",
      "graphviz-2.38.0      | 41.0 MB   | ###9       |  40% \n",
      "graphviz-2.38.0      | 41.0 MB   | ####       |  41% \n",
      "graphviz-2.38.0      | 41.0 MB   | ####1      |  41% \n",
      "graphviz-2.38.0      | 41.0 MB   | ####1      |  42% \n",
      "graphviz-2.38.0      | 41.0 MB   | ####2      |  43% \n",
      "graphviz-2.38.0      | 41.0 MB   | ####3      |  43% \n",
      "graphviz-2.38.0      | 41.0 MB   | ####3      |  44% \n",
      "graphviz-2.38.0      | 41.0 MB   | ####4      |  44% \n",
      "graphviz-2.38.0      | 41.0 MB   | ####5      |  45% \n",
      "graphviz-2.38.0      | 41.0 MB   | ####5      |  46% \n",
      "graphviz-2.38.0      | 41.0 MB   | ####6      |  46% \n",
      "graphviz-2.38.0      | 41.0 MB   | ####6      |  47% \n",
      "graphviz-2.38.0      | 41.0 MB   | ####7      |  48% \n",
      "graphviz-2.38.0      | 41.0 MB   | ####8      |  48% \n",
      "graphviz-2.38.0      | 41.0 MB   | ####8      |  49% \n",
      "graphviz-2.38.0      | 41.0 MB   | ####9      |  50% \n",
      "graphviz-2.38.0      | 41.0 MB   | #####      |  50% \n",
      "graphviz-2.38.0      | 41.0 MB   | #####      |  51% \n",
      "graphviz-2.38.0      | 41.0 MB   | #####1     |  52% \n",
      "graphviz-2.38.0      | 41.0 MB   | #####2     |  52% \n",
      "graphviz-2.38.0      | 41.0 MB   | #####2     |  53% \n",
      "graphviz-2.38.0      | 41.0 MB   | #####3     |  53% \n",
      "graphviz-2.38.0      | 41.0 MB   | #####4     |  54% \n",
      "graphviz-2.38.0      | 41.0 MB   | #####4     |  55% \n",
      "graphviz-2.38.0      | 41.0 MB   | #####5     |  55% \n",
      "graphviz-2.38.0      | 41.0 MB   | #####5     |  56% \n",
      "graphviz-2.38.0      | 41.0 MB   | #####6     |  57% \n",
      "graphviz-2.38.0      | 41.0 MB   | #####7     |  57% \n",
      "graphviz-2.38.0      | 41.0 MB   | #####7     |  58% \n",
      "graphviz-2.38.0      | 41.0 MB   | #####8     |  58% \n",
      "graphviz-2.38.0      | 41.0 MB   | #####8     |  59% \n",
      "graphviz-2.38.0      | 41.0 MB   | #####9     |  60% \n",
      "graphviz-2.38.0      | 41.0 MB   | ######     |  60% \n",
      "graphviz-2.38.0      | 41.0 MB   | ######     |  61% \n",
      "graphviz-2.38.0      | 41.0 MB   | ######1    |  62% \n",
      "graphviz-2.38.0      | 41.0 MB   | ######2    |  62% \n",
      "graphviz-2.38.0      | 41.0 MB   | ######2    |  63% \n",
      "graphviz-2.38.0      | 41.0 MB   | ######3    |  63% \n",
      "graphviz-2.38.0      | 41.0 MB   | ######4    |  64% \n",
      "graphviz-2.38.0      | 41.0 MB   | ######4    |  65% \n",
      "graphviz-2.38.0      | 41.0 MB   | ######5    |  65% \n",
      "graphviz-2.38.0      | 41.0 MB   | ######5    |  66% \n",
      "graphviz-2.38.0      | 41.0 MB   | ######6    |  67% \n",
      "graphviz-2.38.0      | 41.0 MB   | ######7    |  67% \n",
      "graphviz-2.38.0      | 41.0 MB   | ######8    |  68% \n",
      "graphviz-2.38.0      | 41.0 MB   | ######8    |  69% \n",
      "graphviz-2.38.0      | 41.0 MB   | ######9    |  70% \n",
      "graphviz-2.38.0      | 41.0 MB   | #######    |  70% \n",
      "graphviz-2.38.0      | 41.0 MB   | #######    |  71% \n",
      "graphviz-2.38.0      | 41.0 MB   | #######1   |  71% \n",
      "graphviz-2.38.0      | 41.0 MB   | #######1   |  72% \n",
      "graphviz-2.38.0      | 41.0 MB   | #######2   |  73% \n",
      "graphviz-2.38.0      | 41.0 MB   | #######3   |  73% \n",
      "graphviz-2.38.0      | 41.0 MB   | #######3   |  74% \n",
      "graphviz-2.38.0      | 41.0 MB   | #######4   |  74% \n",
      "graphviz-2.38.0      | 41.0 MB   | #######5   |  75% \n",
      "graphviz-2.38.0      | 41.0 MB   | #######5   |  76% \n",
      "graphviz-2.38.0      | 41.0 MB   | #######6   |  76% \n",
      "graphviz-2.38.0      | 41.0 MB   | #######7   |  77% \n",
      "graphviz-2.38.0      | 41.0 MB   | #######7   |  78% \n",
      "graphviz-2.38.0      | 41.0 MB   | #######8   |  79% \n",
      "graphviz-2.38.0      | 41.0 MB   | #######9   |  79% \n",
      "graphviz-2.38.0      | 41.0 MB   | #######9   |  80% \n",
      "graphviz-2.38.0      | 41.0 MB   | ########   |  80% \n",
      "graphviz-2.38.0      | 41.0 MB   | ########1  |  81% \n",
      "graphviz-2.38.0      | 41.0 MB   | ########1  |  82% \n",
      "graphviz-2.38.0      | 41.0 MB   | ########2  |  83% \n",
      "graphviz-2.38.0      | 41.0 MB   | ########3  |  83% \n",
      "graphviz-2.38.0      | 41.0 MB   | ########3  |  84% \n",
      "graphviz-2.38.0      | 41.0 MB   | ########4  |  85% \n",
      "graphviz-2.38.0      | 41.0 MB   | ########5  |  85% \n",
      "graphviz-2.38.0      | 41.0 MB   | ########5  |  86% \n",
      "graphviz-2.38.0      | 41.0 MB   | ########6  |  86% \n",
      "graphviz-2.38.0      | 41.0 MB   | ########7  |  87% \n",
      "graphviz-2.38.0      | 41.0 MB   | ########7  |  88% \n",
      "graphviz-2.38.0      | 41.0 MB   | ########8  |  88% \n",
      "graphviz-2.38.0      | 41.0 MB   | ########8  |  89% \n",
      "graphviz-2.38.0      | 41.0 MB   | ########9  |  90% \n",
      "graphviz-2.38.0      | 41.0 MB   | #########  |  90% \n",
      "graphviz-2.38.0      | 41.0 MB   | #########  |  91% \n",
      "graphviz-2.38.0      | 41.0 MB   | #########1 |  92% \n",
      "graphviz-2.38.0      | 41.0 MB   | #########2 |  92% \n",
      "graphviz-2.38.0      | 41.0 MB   | #########2 |  93% \n",
      "graphviz-2.38.0      | 41.0 MB   | #########3 |  93% \n",
      "graphviz-2.38.0      | 41.0 MB   | #########4 |  94% \n",
      "graphviz-2.38.0      | 41.0 MB   | #########4 |  95% \n",
      "graphviz-2.38.0      | 41.0 MB   | #########5 |  95% \n",
      "graphviz-2.38.0      | 41.0 MB   | #########5 |  96% \n",
      "graphviz-2.38.0      | 41.0 MB   | #########6 |  97% \n",
      "graphviz-2.38.0      | 41.0 MB   | #########7 |  97% \n",
      "graphviz-2.38.0      | 41.0 MB   | #########7 |  98% \n",
      "graphviz-2.38.0      | 41.0 MB   | #########8 |  99% \n",
      "graphviz-2.38.0      | 41.0 MB   | #########9 |  99% \n",
      "graphviz-2.38.0      | 41.0 MB   | #########9 | 100% \n",
      "graphviz-2.38.0      | 41.0 MB   | ########## | 100% \n",
      "\n",
      "pydotplus-2.0.2      | 23 KB     |            |   0% \n",
      "pydotplus-2.0.2      | 23 KB     | ########## | 100% \n",
      "pydotplus-2.0.2      | 23 KB     | ########## | 100% \n",
      "\n",
      "conda-4.8.5          | 3.1 MB    |            |   0% \n",
      "conda-4.8.5          | 3.1 MB    | 3          |   4% \n",
      "conda-4.8.5          | 3.1 MB    | #3         |  14% \n",
      "conda-4.8.5          | 3.1 MB    | ##6        |  27% \n",
      "conda-4.8.5          | 3.1 MB    | ###8       |  38% \n",
      "conda-4.8.5          | 3.1 MB    | ####9      |  50% \n",
      "conda-4.8.5          | 3.1 MB    | #####9     |  59% \n"
     ]
    },
    {
     "name": "stdout",
     "output_type": "stream",
     "text": [
      "conda-4.8.5          | 3.1 MB    | #######1   |  71% \n",
      "conda-4.8.5          | 3.1 MB    | ########   |  81% \n",
      "conda-4.8.5          | 3.1 MB    | #########7 |  97% \n",
      "conda-4.8.5          | 3.1 MB    | ########## | 100% \n",
      "Preparing transaction: ...working... done\n",
      "Verifying transaction: ...working... done\n",
      "Executing transaction: ...working... done\n"
     ]
    }
   ],
   "source": [
    "!conda install -c conda-forge pydotplus -y"
   ]
  },
  {
   "cell_type": "code",
   "execution_count": 2,
   "metadata": {},
   "outputs": [
    {
     "name": "stdout",
     "output_type": "stream",
     "text": [
      "Collecting package metadata (current_repodata.json): ...working... done\n",
      "Solving environment: ...working... \n",
      "Warning: 4 possible package resolutions (only showing differing packages):\n",
      "  - anaconda/win-64::ca-certificates-2020.6.24-0, anaconda/win-64::certifi-2020.6.20-py38_0\n",
      "  - anaconda/win-64::certifi-2020.6.20-py38_0, defaults/win-64::ca-certificates-2020.6.24-0\n",
      "  - anaconda/win-64::ca-certificates-2020.6.24-0, defaults/win-64::certifi-2020.6.20-py38_0\n",
      "  - defaults/win-64::ca-certificates-2020.6.24-0, defaults/win-64::certifi-2020.6.20-py38_0done\n",
      "\n",
      "## Package Plan ##\n",
      "\n",
      "  environment location: C:\\Users\\User\\anaconda3\n",
      "\n",
      "  added / updated specs:\n",
      "    - python-graphviz\n",
      "\n",
      "\n",
      "The following packages will be downloaded:\n",
      "\n",
      "    package                    |            build\n",
      "    ---------------------------|-----------------\n",
      "    python-graphviz-0.14.2     |     pyh9f0ad1d_0          19 KB  conda-forge\n",
      "    ------------------------------------------------------------\n",
      "                                           Total:          19 KB\n",
      "\n",
      "The following NEW packages will be INSTALLED:\n",
      "\n",
      "  python-graphviz    conda-forge/noarch::python-graphviz-0.14.2-pyh9f0ad1d_0\n",
      "\n",
      "\n",
      "\n",
      "Downloading and Extracting Packages\n",
      "\n",
      "python-graphviz-0.14 | 19 KB     |            |   0% \n",
      "python-graphviz-0.14 | 19 KB     | ########3  |  83% \n",
      "python-graphviz-0.14 | 19 KB     | ########## | 100% \n",
      "python-graphviz-0.14 | 19 KB     | ########## | 100% \n",
      "Preparing transaction: ...working... done\n",
      "Verifying transaction: ...working... done\n",
      "Executing transaction: ...working... done\n"
     ]
    }
   ],
   "source": [
    "!conda install -c conda-forge python-graphviz -y"
   ]
  },
  {
   "cell_type": "code",
   "execution_count": 6,
   "metadata": {},
   "outputs": [
    {
     "ename": "ModuleNotFoundError",
     "evalue": "No module named 'sklearn.externals.six'",
     "output_type": "error",
     "traceback": [
      "\u001b[1;31m---------------------------------------------------------------------------\u001b[0m",
      "\u001b[1;31mModuleNotFoundError\u001b[0m                       Traceback (most recent call last)",
      "\u001b[1;32m<ipython-input-6-e08bea59f846>\u001b[0m in \u001b[0;36m<module>\u001b[1;34m\u001b[0m\n\u001b[1;32m----> 1\u001b[1;33m \u001b[1;32mfrom\u001b[0m \u001b[0msklearn\u001b[0m\u001b[1;33m.\u001b[0m\u001b[0mexternals\u001b[0m\u001b[1;33m.\u001b[0m\u001b[0msix\u001b[0m \u001b[1;32mimport\u001b[0m \u001b[0mStringIO\u001b[0m\u001b[1;33m\u001b[0m\u001b[1;33m\u001b[0m\u001b[0m\n\u001b[0m\u001b[0;32m      2\u001b[0m \u001b[1;32mimport\u001b[0m \u001b[0mpydotplus\u001b[0m\u001b[1;33m\u001b[0m\u001b[1;33m\u001b[0m\u001b[0m\n\u001b[0;32m      3\u001b[0m \u001b[1;32mimport\u001b[0m \u001b[0mmatplotlib\u001b[0m\u001b[1;33m.\u001b[0m\u001b[0mimage\u001b[0m \u001b[1;32mas\u001b[0m \u001b[0mmpimg\u001b[0m\u001b[1;33m\u001b[0m\u001b[1;33m\u001b[0m\u001b[0m\n\u001b[0;32m      4\u001b[0m \u001b[1;32mfrom\u001b[0m \u001b[0msklearn\u001b[0m \u001b[1;32mimport\u001b[0m \u001b[0mtree\u001b[0m\u001b[1;33m\u001b[0m\u001b[1;33m\u001b[0m\u001b[0m\n\u001b[0;32m      5\u001b[0m \u001b[0mget_ipython\u001b[0m\u001b[1;33m(\u001b[0m\u001b[1;33m)\u001b[0m\u001b[1;33m.\u001b[0m\u001b[0mrun_line_magic\u001b[0m\u001b[1;33m(\u001b[0m\u001b[1;34m'matplotlib'\u001b[0m\u001b[1;33m,\u001b[0m \u001b[1;34m'inline '\u001b[0m\u001b[1;33m)\u001b[0m\u001b[1;33m\u001b[0m\u001b[1;33m\u001b[0m\u001b[0m\n",
      "\u001b[1;31mModuleNotFoundError\u001b[0m: No module named 'sklearn.externals.six'"
     ]
    }
   ],
   "source": []
  },
  {
   "cell_type": "code",
   "execution_count": null,
   "metadata": {},
   "outputs": [],
   "source": []
  }
 ],
 "metadata": {
  "kernelspec": {
   "display_name": "Python 3",
   "language": "python",
   "name": "python3"
  },
  "language_info": {
   "codemirror_mode": {
    "name": "ipython",
    "version": 3
   },
   "file_extension": ".py",
   "mimetype": "text/x-python",
   "name": "python",
   "nbconvert_exporter": "python",
   "pygments_lexer": "ipython3",
   "version": "3.8.3"
  }
 },
 "nbformat": 4,
 "nbformat_minor": 4
}
