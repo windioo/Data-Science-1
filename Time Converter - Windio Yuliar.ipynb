{
 "cells": [
  {
   "cell_type": "code",
   "execution_count": 1,
   "metadata": {},
   "outputs": [
    {
     "name": "stdout",
     "output_type": "stream",
     "text": [
      "Masukkan Waktu: 40000\n",
      "11 Jam 6 Menit 40 Detik\n"
     ]
    }
   ],
   "source": [
    "waktu = float(input(\"Masukkan Waktu: \"))\n",
    "jam = waktu / 3600\n",
    "waktu %= 3600\n",
    "menit = waktu / 60\n",
    "waktu %= 60\n",
    "detik = waktu\n",
    "print(\"%d\" % jam ,\"Jam\",\"%d\" % menit ,\"Menit\",\"%d\" % detik ,\"Detik\")"
   ]
  },
  {
   "cell_type": "markdown",
   "metadata": {},
   "source": [
    "Jupyter Notebook adalah tool untuk mengolah data dengan menggunakan bahasa python. Disini kita dapat menggunakannya dengan koding maupun tulisan langsung. Di sini terdapat 2 mode yaitu, mode edit dan mode command.Mode edit berwarna hijau sedangkan mode command berwarna biru. Mode Edit digunakan untuk menulis/merubah kode atau tulisan dan mode command digunakan untuk menjalankan kode maupun tulisan."
   ]
  },
  {
   "cell_type": "code",
   "execution_count": null,
   "metadata": {},
   "outputs": [],
   "source": []
  }
 ],
 "metadata": {
  "kernelspec": {
   "display_name": "Python 3",
   "language": "python",
   "name": "python3"
  },
  "language_info": {
   "codemirror_mode": {
    "name": "ipython",
    "version": 3
   },
   "file_extension": ".py",
   "mimetype": "text/x-python",
   "name": "python",
   "nbconvert_exporter": "python",
   "pygments_lexer": "ipython3",
   "version": "3.8.3"
  }
 },
 "nbformat": 4,
 "nbformat_minor": 4
}
