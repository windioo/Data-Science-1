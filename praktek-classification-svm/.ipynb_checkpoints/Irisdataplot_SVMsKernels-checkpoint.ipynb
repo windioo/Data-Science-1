{
 "cells": [
  {
   "cell_type": "code",
   "execution_count": 2,
   "metadata": {},
   "outputs": [],
   "source": [
    "from mlxtend.plotting import plot_decision_regions\n",
    "import matplotlib.pyplot as plt\n",
    "from sklearn import datasets\n",
    "from sklearn.svm import SVC\n",
    "import pandas as pd\n",
    "# Loading some example data\n",
    "iris = datasets.load_iris()\n"
   ]
  },
  {
   "cell_type": "code",
   "execution_count": 2,
   "metadata": {},
   "outputs": [],
   "source": [
    "# Import data from the external CSV\n",
    "irisdata = pd.read_csv('iris.csv')"
   ]
  },
  {
   "cell_type": "code",
   "execution_count": 3,
   "metadata": {},
   "outputs": [
    {
     "data": {
      "text/html": [
       "<div>\n",
       "<style scoped>\n",
       "    .dataframe tbody tr th:only-of-type {\n",
       "        vertical-align: middle;\n",
       "    }\n",
       "\n",
       "    .dataframe tbody tr th {\n",
       "        vertical-align: top;\n",
       "    }\n",
       "\n",
       "    .dataframe thead th {\n",
       "        text-align: right;\n",
       "    }\n",
       "</style>\n",
       "<table border=\"1\" class=\"dataframe\">\n",
       "  <thead>\n",
       "    <tr style=\"text-align: right;\">\n",
       "      <th></th>\n",
       "      <th>sepal_length</th>\n",
       "      <th>sepal_width</th>\n",
       "      <th>petal_length</th>\n",
       "      <th>petal_width</th>\n",
       "      <th>class</th>\n",
       "    </tr>\n",
       "  </thead>\n",
       "  <tbody>\n",
       "    <tr>\n",
       "      <th>0</th>\n",
       "      <td>5.1</td>\n",
       "      <td>3.5</td>\n",
       "      <td>1.4</td>\n",
       "      <td>0.2</td>\n",
       "      <td>Iris-setosa</td>\n",
       "    </tr>\n",
       "    <tr>\n",
       "      <th>1</th>\n",
       "      <td>4.9</td>\n",
       "      <td>3.0</td>\n",
       "      <td>1.4</td>\n",
       "      <td>0.2</td>\n",
       "      <td>Iris-setosa</td>\n",
       "    </tr>\n",
       "    <tr>\n",
       "      <th>2</th>\n",
       "      <td>4.7</td>\n",
       "      <td>3.2</td>\n",
       "      <td>1.3</td>\n",
       "      <td>0.2</td>\n",
       "      <td>Iris-setosa</td>\n",
       "    </tr>\n",
       "    <tr>\n",
       "      <th>3</th>\n",
       "      <td>4.6</td>\n",
       "      <td>3.1</td>\n",
       "      <td>1.5</td>\n",
       "      <td>0.2</td>\n",
       "      <td>Iris-setosa</td>\n",
       "    </tr>\n",
       "    <tr>\n",
       "      <th>4</th>\n",
       "      <td>5.0</td>\n",
       "      <td>3.6</td>\n",
       "      <td>1.4</td>\n",
       "      <td>0.2</td>\n",
       "      <td>Iris-setosa</td>\n",
       "    </tr>\n",
       "  </tbody>\n",
       "</table>\n",
       "</div>"
      ],
      "text/plain": [
       "   sepal_length  sepal_width  petal_length  petal_width        class\n",
       "0           5.1          3.5           1.4          0.2  Iris-setosa\n",
       "1           4.9          3.0           1.4          0.2  Iris-setosa\n",
       "2           4.7          3.2           1.3          0.2  Iris-setosa\n",
       "3           4.6          3.1           1.5          0.2  Iris-setosa\n",
       "4           5.0          3.6           1.4          0.2  Iris-setosa"
      ]
     },
     "execution_count": 3,
     "metadata": {},
     "output_type": "execute_result"
    }
   ],
   "source": [
    "irisdata.head()"
   ]
  },
  {
   "cell_type": "code",
   "execution_count": 4,
   "metadata": {},
   "outputs": [],
   "source": [
    "# select two columns \n",
    "X=irisdata[['sepal_length', 'sepal_width']].to_numpy() \n",
    "y=irisdata[['class']].to_numpy()"
   ]
  },
  {
   "cell_type": "code",
   "execution_count": 5,
   "metadata": {
    "jupyter": {
     "source_hidden": true
    }
   },
   "outputs": [],
   "source": [
    "X = iris.data[:, :2] # we only take the first two features.\n",
    "y = iris.target"
   ]
  },
  {
   "cell_type": "code",
   "execution_count": 16,
   "metadata": {},
   "outputs": [
    {
     "data": {
      "image/png": "[encoded data removed]",
      "text/plain": [
       "<Figure size 432x288 with 1 Axes>"
      ]
     },
     "metadata": {
      "needs_background": "light"
     },
     "output_type": "display_data"
    }
   ],
   "source": [
    "# Training a classifier\n",
    "svm = SVC(C=0.5, kernel='linear',decision_function_shape='ovo')\n",
    "svm.fit(X, y)\n",
    "\n",
    "# Plotting decision regions\n",
    "plot_decision_regions(X, y, clf=svm, legend=2)\n",
    "\n",
    "# Adding axes annotations\n",
    "plt.xlabel('sepal length [cm]')\n",
    "plt.ylabel('petal length [cm]')\n",
    "plt.title('SVM on Iris_linear')\n",
    "plt.show()\n"
   ]
  },
  {
   "cell_type": "code",
   "execution_count": 14,
   "metadata": {},
   "outputs": [
    {
     "data": {
      "image/png": "[encoded data removed]",
      "text/plain": [
       "<Figure size 432x288 with 1 Axes>"
      ]
     },
     "metadata": {
      "needs_background": "light"
     },
     "output_type": "display_data"
    }
   ],
   "source": [
    "# Training a classifier\n",
    "svm = SVC(C=1, kernel='rbf', gamma=0.5)\n",
    "svm.fit(X, y)\n",
    "\n",
    "# Plotting decision regions\n",
    "plot_decision_regions(X, y, clf=svm, legend=2)\n",
    "\n",
    "# Adding axes annotations\n",
    "plt.xlabel('sepal length [cm]')\n",
    "plt.ylabel('petal length [cm]')\n",
    "plt.title('SVM on Iris_rbf')\n",
    "plt.show()\n"
   ]
  },
  {
   "cell_type": "code",
   "execution_count": null,
   "metadata": {},
   "outputs": [],
   "source": [
    "# Training a classifier\n",
    "svm = SVC(C=0.1, kernel='sigmoid')\n",
    "svm.fit(X, y)\n",
    "\n",
    "# Plotting decision regions\n",
    "plot_decision_regions(X, y, clf=svm, legend=2)\n",
    "\n",
    "# Adding axes annotations\n",
    "plt.xlabel('sepal length [cm]')\n",
    "plt.ylabel('petal length [cm]')\n",
    "plt.title('SVM on Iris_sigmiod')\n",
    "plt.show()"
   ]
  },
  {
   "cell_type": "code",
   "execution_count": null,
   "metadata": {},
   "outputs": [],
   "source": [
    "# Training a classifier\n",
    "svm = SVC(C=10, kernel='poly')\n",
    "svm.fit(X, y)\n",
    "\n",
    "# Plotting decision regions\n",
    "plot_decision_regions(X, y, clf=svm, legend=2)\n",
    "\n",
    "# Adding axes annotations\n",
    "plt.xlabel('sepal length [cm]')\n",
    "plt.ylabel('petal length [cm]')\n",
    "plt.title('SVM on Iris_Polynomial')\n",
    "plt.show()"
   ]
  },
  {
   "cell_type": "markdown",
   "metadata": {},
   "source": [
    "### Decision Function for multiclass svm"
   ]
  },
  {
   "cell_type": "markdown",
   "metadata": {},
   "source": [
    "https://books.google.co.id/books?id=Uy1pqRzABDgC&pg=PA127&lpg=PA127&dq=svm+argmax+decision+function&source=bl&ots=Vj8lpokb6m&sig=eaxwYaQGt4jt9t6ua5-Z2I79A-s&hl=en&sa=X&ei=-WGOUp7TMuKWiALHvoC4Cg&redir_esc=y#v=onepage&q=svm%20argmax%20decision%20function&f=false"
   ]
  },
  {
   "cell_type": "markdown",
   "metadata": {},
   "source": [
    "![title](decision-function.png)"
   ]
  },
  {
   "cell_type": "code",
   "execution_count": 17,
   "metadata": {},
   "outputs": [
    {
     "data": {
      "text/plain": [
       "array([[ 1.39982019,  1.31065213,  1.39143781],\n",
       "       [ 0.79974295,  0.9996872 ,  1.96100225],\n",
       "       [ 1.59963906,  1.62161624,  2.13990275],\n",
       "       [ 1.59959472,  1.66603962,  2.34097126],\n",
       "       [ 1.79976825,  1.62161665,  1.48088805],\n",
       "       [ 1.59994938,  1.31065254,  0.73242312],\n",
       "       [ 2.19958331,  2.06585132,  2.17354386],\n",
       "       [ 1.39977586,  1.35507552,  1.59250633],\n",
       "       [ 1.59950606,  1.75488639,  2.7431083 ],\n",
       "       [ 0.99973914,  1.13295777,  1.90519312],\n",
       "       [ 1.199957  ,  1.04411141,  0.84404139],\n",
       "       [ 1.79967958,  1.71046342,  1.88302509],\n",
       "       [ 0.99969481,  1.17738115,  2.10626163],\n",
       "       [ 1.99945411,  2.06585091,  2.83255855],\n",
       "       [ 1.00013813,  0.7331473 ,  0.09557645],\n",
       "       [ 2.00007477,  1.44392352,  0.01759929],\n",
       "       [ 1.59994938,  1.31065254,  0.73242312],\n",
       "       [ 1.39982019,  1.31065213,  1.39143781],\n",
       "       [ 0.80009761,  0.64430012,  0.35245411],\n",
       "       [ 1.99980877,  1.71046383,  1.2240104 ],\n",
       "       [ 0.59996841,  0.64429971,  1.0114688 ],\n",
       "       [ 1.79981258,  1.57719326,  1.27981954],\n",
       "       [ 2.59957569,  2.33239246,  2.06192558],\n",
       "       [ 0.9998278 ,  1.044111  ,  1.50305608],\n",
       "       [ 1.79967958,  1.71046342,  1.88302509],\n",
       "       [ 0.59979108,  0.82199325,  1.81574287],\n",
       "       [ 1.39977586,  1.35507552,  1.59250633],\n",
       "       [ 1.19986833,  1.13295818,  1.24617843],\n",
       "       [ 0.99987214,  0.99968761,  1.30198756],\n",
       "       [ 1.59963906,  1.62161624,  2.13990275],\n",
       "       [ 1.199691  ,  1.31065172,  2.0504525 ],\n",
       "       [ 0.59996841,  0.64429971,  1.0114688 ],\n",
       "       [ 2.39984549,  1.93258158,  0.91132361],\n",
       "       [ 1.9999861 ,  1.53277029,  0.41973633],\n",
       "       [ 0.99973914,  1.13295777,  1.90519312],\n",
       "       [ 0.99978347,  1.08853438,  1.7041246 ],\n",
       "       [ 0.60001275,  0.59987632,  0.81040028],\n",
       "       [ 1.99972011,  1.7993106 ,  1.62614744],\n",
       "       [ 1.79950225,  1.88815696,  2.68729916],\n",
       "       [ 1.199824  ,  1.17738156,  1.44724694],\n",
       "       [ 1.59977205,  1.48834608,  1.53669719],\n",
       "       [ 0.19957703,  0.77756904,  2.93270373],\n",
       "       [ 2.19949464,  2.15469809,  2.57568089],\n",
       "       [ 1.59977205,  1.48834608,  1.53669719],\n",
       "       [ 1.99980877,  1.71046383,  1.2240104 ],\n",
       "       [ 0.99969481,  1.17738115,  2.10626163],\n",
       "       [ 1.99980877,  1.71046383,  1.2240104 ],\n",
       "       [ 1.79959092,  1.79931019,  2.28516213],\n",
       "       [ 1.39990886,  1.22180536,  0.98930077],\n",
       "       [ 1.19977967,  1.22180495,  1.64831546],\n",
       "       [-2.99925376, -2.46534466, -1.20106305],\n",
       "       [-1.79954259, -1.39918094, -0.32950676],\n",
       "       [-2.99929809, -2.42092127, -0.99999453],\n",
       "       [-1.79994158, -0.99937048,  1.48010991],\n",
       "       [-2.79947922, -2.10995716, -0.2515296 ],\n",
       "       [-1.19986433, -0.68840555,  0.91054546],\n",
       "       [-1.39959453, -1.08821643, -0.24005651],\n",
       "       [-0.40023422,  0.2000638 ,  2.29585707],\n",
       "       [-2.79943489, -2.15438055, -0.45259812],\n",
       "       [-0.40010122,  0.06679364,  1.69265151],\n",
       "       [-1.40017086, -0.51071242,  2.37383423],\n",
       "       [-1.19977567, -0.77725232,  0.50840843],\n",
       "       [-2.99969708, -2.02111081,  0.80962213],\n",
       "       [-1.79967559, -1.26591079,  0.2736988 ],\n",
       "       [-0.79991628, -0.37744103,  0.99999571],\n",
       "       [-2.59939437, -2.06553337, -0.70947577],\n",
       "       [-0.59992008, -0.24417046,  0.94418657],\n",
       "       [-1.59981239, -0.99937007,  0.82109522],\n",
       "       [-3.3996008 , -2.37649871,  0.51910337],\n",
       "       [-1.59990105, -0.9105233 ,  1.22323225],\n",
       "       [-0.79978328, -0.51071118,  0.39679015],\n",
       "       [-1.99967178, -1.39918136,  0.32950793],\n",
       "       [-2.99956408, -2.15438096,  0.20641658],\n",
       "       [-1.99967178, -1.39918136,  0.32950793],\n",
       "       [-2.39953117, -1.79899264, -0.16207935],\n",
       "       [-2.5994387 , -2.02110998, -0.50840725],\n",
       "       [-3.39933481, -2.64303902, -0.68730774],\n",
       "       [-2.79939056, -2.19880393, -0.65366663],\n",
       "       [-1.59972372, -1.08821684,  0.41895818],\n",
       "       [-1.59985672, -0.95494668,  1.02216373],\n",
       "       [-1.59994539, -0.86609991,  1.42430077],\n",
       "       [-1.59994539, -0.86609991,  1.42430077],\n",
       "       [-1.59981239, -0.99937007,  0.82109522],\n",
       "       [-1.99971611, -1.35475797,  0.53057645],\n",
       "       [-0.20001636,  0.11121744,  1.23470534],\n",
       "       [-0.59974275, -0.421864  ,  0.1399125 ],\n",
       "       [-2.59939437, -2.06553337, -0.70947577],\n",
       "       [-3.39955647, -2.42092209,  0.31803485],\n",
       "       [-0.59992008, -0.24417046,  0.94418657],\n",
       "       [-1.39994919, -0.73282935,  1.36849164],\n",
       "       [-1.199953  , -0.59955878,  1.3126825 ],\n",
       "       [-1.59967939, -1.13264022,  0.21788966],\n",
       "       [-1.79980858, -1.13264063,  0.87690435],\n",
       "       [-0.80018227, -0.11090072,  2.20640682],\n",
       "       [-1.19990867, -0.64398216,  1.11161398],\n",
       "       [-0.79987195, -0.42186441,  0.79892719],\n",
       "       [-0.99986814, -0.55513498,  0.85473633],\n",
       "       [-1.99962745, -1.44360474,  0.12843941],\n",
       "       [-0.60014175, -0.02205354,  1.94952917],\n",
       "       [-1.19986433, -0.68840555,  0.91054546],\n",
       "       [-1.39959453, -1.08821643, -0.24005651],\n",
       "       [-1.59981239, -0.99937007,  0.82109522],\n",
       "       [-3.599198  , -2.90957974, -1.23470416],\n",
       "       [-2.19957931, -1.62129869, -0.01681997],\n",
       "       [-2.39948684, -1.84341603, -0.36314787],\n",
       "       [-4.59895731, -3.7980495 , -1.96100108],\n",
       "       [-0.20023802,  0.33333437,  2.24004793],\n",
       "       [-4.19909792, -3.39823821, -1.46941379],\n",
       "       [-3.79937153, -2.86515677, -0.37462095],\n",
       "       [-2.5991727 , -2.28765029, -1.71481836],\n",
       "       [-1.99949445, -1.5768749 , -0.47476614],\n",
       "       [-2.79952356, -2.06553378, -0.05046108],\n",
       "       [-2.99934242, -2.37649789, -0.79892602],\n",
       "       [-1.79985292, -1.08821725,  1.07797287],\n",
       "       [-1.39981619, -0.8660995 ,  0.76528608],\n",
       "       [-1.79954259, -1.39918094, -0.32950676],\n",
       "       [-2.39948684, -1.84341603, -0.36314787],\n",
       "       [-3.19893962, -2.90957892, -2.55273355],\n",
       "       [-5.59889395, -4.50882572, -1.88302392],\n",
       "       [-2.99969708, -2.02111081,  0.80962213],\n",
       "       [-2.79930189, -2.2876507 , -1.05580367],\n",
       "       [-0.99991247, -0.5107116 ,  1.05580485],\n",
       "       [-5.19890156, -4.24228459, -1.99464219],\n",
       "       [-2.5995717 , -1.88783983,  0.0947983 ],\n",
       "       [-2.19940198, -1.79899223, -0.82109404],\n",
       "       [-3.39915748, -2.82073256, -1.49158182],\n",
       "       [-2.19962364, -1.57687531,  0.18424855],\n",
       "       [-1.59967939, -1.13264022,  0.21788966],\n",
       "       [-2.59952736, -1.93226321, -0.10627021],\n",
       "       [-3.79914987, -3.08727369, -1.37996355],\n",
       "       [-4.59904598, -3.70920273, -1.55886404],\n",
       "       [-3.59884334, -3.26496682, -2.84325231],\n",
       "       [-2.59952736, -1.93226321, -0.10627021],\n",
       "       [-2.3995755 , -1.75456926,  0.03898917],\n",
       "       [-2.39966417, -1.66572249,  0.4411262 ],\n",
       "       [-4.79890917, -3.97574345, -2.10626046],\n",
       "       [-1.19959834, -0.95494586, -0.29586565],\n",
       "       [-1.99953878, -1.53245151, -0.27369762],\n",
       "       [-1.39972753, -0.95494627,  0.36314904],\n",
       "       [-2.99929809, -2.42092127, -0.99999453],\n",
       "       [-2.59939437, -2.06553337, -0.70947577],\n",
       "       [-2.99929809, -2.42092127, -0.99999453],\n",
       "       [-1.59981239, -0.99937007,  0.82109522],\n",
       "       [-2.59935003, -2.10995675, -0.91054429],\n",
       "       [-2.19940198, -1.79899223, -0.82109404],\n",
       "       [-2.79939056, -2.19880393, -0.65366663],\n",
       "       [-2.99956408, -2.15438096,  0.20641658],\n",
       "       [-2.39948684, -1.84341603, -0.36314787],\n",
       "       [-0.99964648, -0.77725191, -0.15060626],\n",
       "       [-1.19977567, -0.77725232,  0.50840843]])"
      ]
     },
     "execution_count": 17,
     "metadata": {},
     "output_type": "execute_result"
    }
   ],
   "source": [
    "svm.decision_function(X)"
   ]
  },
  {
   "cell_type": "code",
   "execution_count": 18,
   "metadata": {},
   "outputs": [
    {
     "data": {
      "text/plain": [
       "array([0, 0, 0, 0, 0, 0, 0, 0, 0, 0, 0, 0, 0, 0, 0, 0, 0, 0, 0, 0, 0, 0,\n",
       "       0, 0, 0, 0, 0, 0, 0, 0, 0, 0, 0, 0, 0, 0, 0, 0, 0, 0, 0, 0, 0, 0,\n",
       "       0, 0, 0, 0, 0, 0, 2, 2, 2, 1, 2, 1, 2, 1, 2, 1, 1, 1, 1, 1, 1, 2,\n",
       "       1, 1, 1, 1, 1, 1, 1, 1, 2, 2, 2, 2, 1, 1, 1, 1, 1, 1, 1, 1, 2, 1,\n",
       "       1, 1, 1, 1, 1, 1, 1, 1, 1, 1, 1, 1, 2, 1, 2, 2, 2, 2, 1, 2, 2, 2,\n",
       "       2, 2, 2, 1, 1, 2, 2, 2, 2, 1, 2, 1, 2, 1, 2, 2, 1, 1, 2, 2, 2, 2,\n",
       "       2, 1, 1, 2, 2, 2, 1, 2, 2, 2, 1, 2, 2, 2, 1, 2, 2, 1])"
      ]
     },
     "execution_count": 18,
     "metadata": {},
     "output_type": "execute_result"
    }
   ],
   "source": [
    "svm.predict(X)"
   ]
  },
  {
   "cell_type": "code",
   "execution_count": null,
   "metadata": {},
   "outputs": [],
   "source": [
    "import numpy as np\n",
    "X = np.array([[-1, -1], [-2, -1], [1, 1], [2, 1]])\n",
    "y = np.array([1, 1, 2, 2])\n",
    "from sklearn.svm import SVC\n",
    "clf = SVC()\n",
    "clf.fit(X, y) "
   ]
  },
  {
   "cell_type": "code",
   "execution_count": null,
   "metadata": {},
   "outputs": [],
   "source": [
    "clf.decision_function(X)\n"
   ]
  },
  {
   "cell_type": "code",
   "execution_count": null,
   "metadata": {},
   "outputs": [],
   "source": [
    "clf.predict(X)"
   ]
  },
  {
   "cell_type": "code",
   "execution_count": null,
   "metadata": {},
   "outputs": [],
   "source": [
    "X = [[0], [1], [2],[3]]\n",
    "Y = [0, 1, 2,3]\n",
    "clf = SVC(decision_function_shape='ovo')\n",
    "clf.fit(X, Y)\n",
    "SVC(decision_function_shape='ovo')\n",
    "dec = clf.decision_function([[2]])\n",
    "dec"
   ]
  },
  {
   "cell_type": "code",
   "execution_count": null,
   "metadata": {},
   "outputs": [],
   "source": [
    "clf.predict([[2]])"
   ]
  },
  {
   "cell_type": "code",
   "execution_count": null,
   "metadata": {},
   "outputs": [],
   "source": [
    "clf.decision_function_shape = \"ovr\"\n",
    "dec = clf.decision_function([[2]])\n",
    "dec"
   ]
  },
  {
   "cell_type": "code",
   "execution_count": null,
   "metadata": {},
   "outputs": [],
   "source": []
  }
 ],
 "metadata": {
  "kernelspec": {
   "display_name": "Python 3",
   "language": "python",
   "name": "python3"
  },
  "language_info": {
   "codemirror_mode": {
    "name": "ipython",
    "version": 3
   },
   "file_extension": ".py",
   "mimetype": "text/x-python",
   "name": "python",
   "nbconvert_exporter": "python",
   "pygments_lexer": "ipython3",
   "version": "3.7.6"
  }
 },
 "nbformat": 4,
 "nbformat_minor": 4
}
