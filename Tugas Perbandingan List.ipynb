{
 "cells": [
  {
   "cell_type": "code",
   "execution_count": 16,
   "metadata": {},
   "outputs": [],
   "source": [
    "List1 = [1,2,3,4,5]\n",
    "List2 = [2,3,1,2,4]\n"
   ]
  },
  {
   "cell_type": "markdown",
   "metadata": {},
   "source": [
    "Cara Sendiri"
   ]
  },
  {
   "cell_type": "code",
   "execution_count": 14,
   "metadata": {},
   "outputs": [],
   "source": [
    "def foo(List1, List2):\n",
    "    ListBaru= []\n",
    "    w=0\n",
    "    while(ListBaru == ListBaru[0:4]):\n",
    "        ListBarus = min(List1[w],List2[w])\n",
    "        ListBaru.append(ListBarus)\n",
    "        w += 1\n",
    "    return ListBaru\n"
   ]
  },
  {
   "cell_type": "code",
   "execution_count": 15,
   "metadata": {},
   "outputs": [
    {
     "data": {
      "text/plain": [
       "[1, 2, 1, 2, 4]"
      ]
     },
     "execution_count": 15,
     "metadata": {},
     "output_type": "execute_result"
    }
   ],
   "source": [
    "foo(List1,List2)"
   ]
  },
  {
   "cell_type": "markdown",
   "metadata": {},
   "source": [
    "Cara Mas Hadi"
   ]
  },
  {
   "cell_type": "code",
   "execution_count": 10,
   "metadata": {},
   "outputs": [],
   "source": [
    "def foos(List1, List2):\n",
    "    ListBaru = []\n",
    "    for i in range(len(List1)):\n",
    "        print('Index: ' + str(i) + ', element A: ' + str(List1[i]))\n",
    "        print('Index: ' + str(i) + ', element B: ' + str(List2[i]))\n",
    "        print('Index: ' + str(i) + ', element C: ' + str(min(List1[i], List2[i])))\n",
    "        ListBaru.append(min(List1[i], List2[i]))\n",
    "    return ListBaru"
   ]
  },
  {
   "cell_type": "code",
   "execution_count": 11,
   "metadata": {},
   "outputs": [
    {
     "name": "stdout",
     "output_type": "stream",
     "text": [
      "Index: 0, element A: 1\n",
      "Index: 0, element B: 2\n",
      "Index: 0, element C: 1\n",
      "Index: 1, element A: 2\n",
      "Index: 1, element B: 3\n",
      "Index: 1, element C: 2\n",
      "Index: 2, element A: 3\n",
      "Index: 2, element B: 1\n",
      "Index: 2, element C: 1\n",
      "Index: 3, element A: 4\n",
      "Index: 3, element B: 2\n",
      "Index: 3, element C: 2\n",
      "Index: 4, element A: 5\n",
      "Index: 4, element B: 4\n",
      "Index: 4, element C: 4\n"
     ]
    },
    {
     "data": {
      "text/plain": [
       "[1, 2, 1, 2, 4]"
      ]
     },
     "execution_count": 11,
     "metadata": {},
     "output_type": "execute_result"
    }
   ],
   "source": [
    "foos(List1, List2)"
   ]
  },
  {
   "cell_type": "code",
   "execution_count": null,
   "metadata": {},
   "outputs": [],
   "source": []
  }
 ],
 "metadata": {
  "kernelspec": {
   "display_name": "Python 3",
   "language": "python",
   "name": "python3"
  },
  "language_info": {
   "codemirror_mode": {
    "name": "ipython",
    "version": 3
   },
   "file_extension": ".py",
   "mimetype": "text/x-python",
   "name": "python",
   "nbconvert_exporter": "python",
   "pygments_lexer": "ipython3",
   "version": "3.8.3"
  }
 },
 "nbformat": 4,
 "nbformat_minor": 4
}
