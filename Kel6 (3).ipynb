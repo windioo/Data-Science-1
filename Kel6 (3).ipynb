{
 "cells": [
  {
   "cell_type": "code",
   "execution_count": 1,
   "metadata": {},
   "outputs": [],
   "source": [
    "import pandas as pd\n",
    "import numpy as np"
   ]
  },
  {
   "cell_type": "markdown",
   "metadata": {},
   "source": [
    "a. Find out what percentage of bikes are returned to its initial location?"
   ]
  },
  {
   "cell_type": "markdown",
   "metadata": {},
   "source": [
    "TAHUN 2017"
   ]
  },
  {
   "cell_type": "code",
   "execution_count": 2,
   "metadata": {},
   "outputs": [
    {
     "ename": "FileNotFoundError",
     "evalue": "[Errno 2] File C:\\Users\\ASUS\\bikeshare-ridership-2017\\Bikeshare Ridership (2017 Q1).csv does not exist: 'C:\\\\Users\\\\ASUS\\\\bikeshare-ridership-2017\\\\Bikeshare Ridership (2017 Q1).csv'",
     "output_type": "error",
     "traceback": [
      "\u001b[1;31m---------------------------------------------------------------------------\u001b[0m",
      "\u001b[1;31mFileNotFoundError\u001b[0m                         Traceback (most recent call last)",
      "\u001b[1;32m<ipython-input-2-7391742ef971>\u001b[0m in \u001b[0;36m<module>\u001b[1;34m\u001b[0m\n\u001b[1;32m----> 1\u001b[1;33m \u001b[0mq1_2017\u001b[0m \u001b[1;33m=\u001b[0m \u001b[0mpd\u001b[0m\u001b[1;33m.\u001b[0m\u001b[0mread_csv\u001b[0m\u001b[1;33m(\u001b[0m\u001b[1;34m'C:\\\\Users\\\\ASUS\\\\bikeshare-ridership-2017\\\\Bikeshare Ridership (2017 Q1).csv'\u001b[0m\u001b[1;33m)\u001b[0m\u001b[1;33m\u001b[0m\u001b[1;33m\u001b[0m\u001b[0m\n\u001b[0m\u001b[0;32m      2\u001b[0m \u001b[0mq2_2017\u001b[0m \u001b[1;33m=\u001b[0m \u001b[0mpd\u001b[0m\u001b[1;33m.\u001b[0m\u001b[0mread_csv\u001b[0m\u001b[1;33m(\u001b[0m\u001b[1;34m'C:\\\\Users\\\\ASUS\\\\bikeshare-ridership-2017\\\\Bikeshare Ridership (2017 Q2).csv'\u001b[0m\u001b[1;33m)\u001b[0m\u001b[1;33m\u001b[0m\u001b[1;33m\u001b[0m\u001b[0m\n\u001b[0;32m      3\u001b[0m \u001b[0mq3_2017\u001b[0m \u001b[1;33m=\u001b[0m \u001b[0mpd\u001b[0m\u001b[1;33m.\u001b[0m\u001b[0mread_csv\u001b[0m\u001b[1;33m(\u001b[0m\u001b[1;34m'C:\\\\Users\\\\ASUS\\\\bikeshare-ridership-2017\\\\Bikeshare Ridership (2017 Q3).csv'\u001b[0m\u001b[1;33m)\u001b[0m\u001b[1;33m\u001b[0m\u001b[1;33m\u001b[0m\u001b[0m\n\u001b[0;32m      4\u001b[0m \u001b[0mq4_2017\u001b[0m \u001b[1;33m=\u001b[0m \u001b[0mpd\u001b[0m\u001b[1;33m.\u001b[0m\u001b[0mread_csv\u001b[0m\u001b[1;33m(\u001b[0m\u001b[1;34m'C:\\\\Users\\\\ASUS\\\\bikeshare-ridership-2017\\\\Bikeshare Ridership (2017 Q4).csv'\u001b[0m\u001b[1;33m)\u001b[0m\u001b[1;33m\u001b[0m\u001b[1;33m\u001b[0m\u001b[0m\n",
      "\u001b[1;32m~\\anaconda3\\lib\\site-packages\\pandas\\io\\parsers.py\u001b[0m in \u001b[0;36mparser_f\u001b[1;34m(filepath_or_buffer, sep, delimiter, header, names, index_col, usecols, squeeze, prefix, mangle_dupe_cols, dtype, engine, converters, true_values, false_values, skipinitialspace, skiprows, skipfooter, nrows, na_values, keep_default_na, na_filter, verbose, skip_blank_lines, parse_dates, infer_datetime_format, keep_date_col, date_parser, dayfirst, cache_dates, iterator, chunksize, compression, thousands, decimal, lineterminator, quotechar, quoting, doublequote, escapechar, comment, encoding, dialect, error_bad_lines, warn_bad_lines, delim_whitespace, low_memory, memory_map, float_precision)\u001b[0m\n\u001b[0;32m    674\u001b[0m         )\n\u001b[0;32m    675\u001b[0m \u001b[1;33m\u001b[0m\u001b[0m\n\u001b[1;32m--> 676\u001b[1;33m         \u001b[1;32mreturn\u001b[0m \u001b[0m_read\u001b[0m\u001b[1;33m(\u001b[0m\u001b[0mfilepath_or_buffer\u001b[0m\u001b[1;33m,\u001b[0m \u001b[0mkwds\u001b[0m\u001b[1;33m)\u001b[0m\u001b[1;33m\u001b[0m\u001b[1;33m\u001b[0m\u001b[0m\n\u001b[0m\u001b[0;32m    677\u001b[0m \u001b[1;33m\u001b[0m\u001b[0m\n\u001b[0;32m    678\u001b[0m     \u001b[0mparser_f\u001b[0m\u001b[1;33m.\u001b[0m\u001b[0m__name__\u001b[0m \u001b[1;33m=\u001b[0m \u001b[0mname\u001b[0m\u001b[1;33m\u001b[0m\u001b[1;33m\u001b[0m\u001b[0m\n",
      "\u001b[1;32m~\\anaconda3\\lib\\site-packages\\pandas\\io\\parsers.py\u001b[0m in \u001b[0;36m_read\u001b[1;34m(filepath_or_buffer, kwds)\u001b[0m\n\u001b[0;32m    446\u001b[0m \u001b[1;33m\u001b[0m\u001b[0m\n\u001b[0;32m    447\u001b[0m     \u001b[1;31m# Create the parser.\u001b[0m\u001b[1;33m\u001b[0m\u001b[1;33m\u001b[0m\u001b[1;33m\u001b[0m\u001b[0m\n\u001b[1;32m--> 448\u001b[1;33m     \u001b[0mparser\u001b[0m \u001b[1;33m=\u001b[0m \u001b[0mTextFileReader\u001b[0m\u001b[1;33m(\u001b[0m\u001b[0mfp_or_buf\u001b[0m\u001b[1;33m,\u001b[0m \u001b[1;33m**\u001b[0m\u001b[0mkwds\u001b[0m\u001b[1;33m)\u001b[0m\u001b[1;33m\u001b[0m\u001b[1;33m\u001b[0m\u001b[0m\n\u001b[0m\u001b[0;32m    449\u001b[0m \u001b[1;33m\u001b[0m\u001b[0m\n\u001b[0;32m    450\u001b[0m     \u001b[1;32mif\u001b[0m \u001b[0mchunksize\u001b[0m \u001b[1;32mor\u001b[0m \u001b[0miterator\u001b[0m\u001b[1;33m:\u001b[0m\u001b[1;33m\u001b[0m\u001b[1;33m\u001b[0m\u001b[0m\n",
      "\u001b[1;32m~\\anaconda3\\lib\\site-packages\\pandas\\io\\parsers.py\u001b[0m in \u001b[0;36m__init__\u001b[1;34m(self, f, engine, **kwds)\u001b[0m\n\u001b[0;32m    878\u001b[0m             \u001b[0mself\u001b[0m\u001b[1;33m.\u001b[0m\u001b[0moptions\u001b[0m\u001b[1;33m[\u001b[0m\u001b[1;34m\"has_index_names\"\u001b[0m\u001b[1;33m]\u001b[0m \u001b[1;33m=\u001b[0m \u001b[0mkwds\u001b[0m\u001b[1;33m[\u001b[0m\u001b[1;34m\"has_index_names\"\u001b[0m\u001b[1;33m]\u001b[0m\u001b[1;33m\u001b[0m\u001b[1;33m\u001b[0m\u001b[0m\n\u001b[0;32m    879\u001b[0m \u001b[1;33m\u001b[0m\u001b[0m\n\u001b[1;32m--> 880\u001b[1;33m         \u001b[0mself\u001b[0m\u001b[1;33m.\u001b[0m\u001b[0m_make_engine\u001b[0m\u001b[1;33m(\u001b[0m\u001b[0mself\u001b[0m\u001b[1;33m.\u001b[0m\u001b[0mengine\u001b[0m\u001b[1;33m)\u001b[0m\u001b[1;33m\u001b[0m\u001b[1;33m\u001b[0m\u001b[0m\n\u001b[0m\u001b[0;32m    881\u001b[0m \u001b[1;33m\u001b[0m\u001b[0m\n\u001b[0;32m    882\u001b[0m     \u001b[1;32mdef\u001b[0m \u001b[0mclose\u001b[0m\u001b[1;33m(\u001b[0m\u001b[0mself\u001b[0m\u001b[1;33m)\u001b[0m\u001b[1;33m:\u001b[0m\u001b[1;33m\u001b[0m\u001b[1;33m\u001b[0m\u001b[0m\n",
      "\u001b[1;32m~\\anaconda3\\lib\\site-packages\\pandas\\io\\parsers.py\u001b[0m in \u001b[0;36m_make_engine\u001b[1;34m(self, engine)\u001b[0m\n\u001b[0;32m   1112\u001b[0m     \u001b[1;32mdef\u001b[0m \u001b[0m_make_engine\u001b[0m\u001b[1;33m(\u001b[0m\u001b[0mself\u001b[0m\u001b[1;33m,\u001b[0m \u001b[0mengine\u001b[0m\u001b[1;33m=\u001b[0m\u001b[1;34m\"c\"\u001b[0m\u001b[1;33m)\u001b[0m\u001b[1;33m:\u001b[0m\u001b[1;33m\u001b[0m\u001b[1;33m\u001b[0m\u001b[0m\n\u001b[0;32m   1113\u001b[0m         \u001b[1;32mif\u001b[0m \u001b[0mengine\u001b[0m \u001b[1;33m==\u001b[0m \u001b[1;34m\"c\"\u001b[0m\u001b[1;33m:\u001b[0m\u001b[1;33m\u001b[0m\u001b[1;33m\u001b[0m\u001b[0m\n\u001b[1;32m-> 1114\u001b[1;33m             \u001b[0mself\u001b[0m\u001b[1;33m.\u001b[0m\u001b[0m_engine\u001b[0m \u001b[1;33m=\u001b[0m \u001b[0mCParserWrapper\u001b[0m\u001b[1;33m(\u001b[0m\u001b[0mself\u001b[0m\u001b[1;33m.\u001b[0m\u001b[0mf\u001b[0m\u001b[1;33m,\u001b[0m \u001b[1;33m**\u001b[0m\u001b[0mself\u001b[0m\u001b[1;33m.\u001b[0m\u001b[0moptions\u001b[0m\u001b[1;33m)\u001b[0m\u001b[1;33m\u001b[0m\u001b[1;33m\u001b[0m\u001b[0m\n\u001b[0m\u001b[0;32m   1115\u001b[0m         \u001b[1;32melse\u001b[0m\u001b[1;33m:\u001b[0m\u001b[1;33m\u001b[0m\u001b[1;33m\u001b[0m\u001b[0m\n\u001b[0;32m   1116\u001b[0m             \u001b[1;32mif\u001b[0m \u001b[0mengine\u001b[0m \u001b[1;33m==\u001b[0m \u001b[1;34m\"python\"\u001b[0m\u001b[1;33m:\u001b[0m\u001b[1;33m\u001b[0m\u001b[1;33m\u001b[0m\u001b[0m\n",
      "\u001b[1;32m~\\anaconda3\\lib\\site-packages\\pandas\\io\\parsers.py\u001b[0m in \u001b[0;36m__init__\u001b[1;34m(self, src, **kwds)\u001b[0m\n\u001b[0;32m   1889\u001b[0m         \u001b[0mkwds\u001b[0m\u001b[1;33m[\u001b[0m\u001b[1;34m\"usecols\"\u001b[0m\u001b[1;33m]\u001b[0m \u001b[1;33m=\u001b[0m \u001b[0mself\u001b[0m\u001b[1;33m.\u001b[0m\u001b[0musecols\u001b[0m\u001b[1;33m\u001b[0m\u001b[1;33m\u001b[0m\u001b[0m\n\u001b[0;32m   1890\u001b[0m \u001b[1;33m\u001b[0m\u001b[0m\n\u001b[1;32m-> 1891\u001b[1;33m         \u001b[0mself\u001b[0m\u001b[1;33m.\u001b[0m\u001b[0m_reader\u001b[0m \u001b[1;33m=\u001b[0m \u001b[0mparsers\u001b[0m\u001b[1;33m.\u001b[0m\u001b[0mTextReader\u001b[0m\u001b[1;33m(\u001b[0m\u001b[0msrc\u001b[0m\u001b[1;33m,\u001b[0m \u001b[1;33m**\u001b[0m\u001b[0mkwds\u001b[0m\u001b[1;33m)\u001b[0m\u001b[1;33m\u001b[0m\u001b[1;33m\u001b[0m\u001b[0m\n\u001b[0m\u001b[0;32m   1892\u001b[0m         \u001b[0mself\u001b[0m\u001b[1;33m.\u001b[0m\u001b[0munnamed_cols\u001b[0m \u001b[1;33m=\u001b[0m \u001b[0mself\u001b[0m\u001b[1;33m.\u001b[0m\u001b[0m_reader\u001b[0m\u001b[1;33m.\u001b[0m\u001b[0munnamed_cols\u001b[0m\u001b[1;33m\u001b[0m\u001b[1;33m\u001b[0m\u001b[0m\n\u001b[0;32m   1893\u001b[0m \u001b[1;33m\u001b[0m\u001b[0m\n",
      "\u001b[1;32mpandas\\_libs\\parsers.pyx\u001b[0m in \u001b[0;36mpandas._libs.parsers.TextReader.__cinit__\u001b[1;34m()\u001b[0m\n",
      "\u001b[1;32mpandas\\_libs\\parsers.pyx\u001b[0m in \u001b[0;36mpandas._libs.parsers.TextReader._setup_parser_source\u001b[1;34m()\u001b[0m\n",
      "\u001b[1;31mFileNotFoundError\u001b[0m: [Errno 2] File C:\\Users\\ASUS\\bikeshare-ridership-2017\\Bikeshare Ridership (2017 Q1).csv does not exist: 'C:\\\\Users\\\\ASUS\\\\bikeshare-ridership-2017\\\\Bikeshare Ridership (2017 Q1).csv'"
     ]
    }
   ],
   "source": [
    "q1_2017 = pd.read_csv('C:\\\\Users\\\\ASUS\\\\bikeshare-ridership-2017\\\\Bikeshare Ridership (2017 Q1).csv')\n",
    "q2_2017 = pd.read_csv('C:\\\\Users\\\\ASUS\\\\bikeshare-ridership-2017\\\\Bikeshare Ridership (2017 Q2).csv')\n",
    "q3_2017 = pd.read_csv('C:\\\\Users\\\\ASUS\\\\bikeshare-ridership-2017\\\\Bikeshare Ridership (2017 Q3).csv')\n",
    "q4_2017 = pd.read_csv('C:\\\\Users\\\\ASUS\\\\bikeshare-ridership-2017\\\\Bikeshare Ridership (2017 Q4).csv')"
   ]
  },
  {
   "cell_type": "code",
   "execution_count": null,
   "metadata": {},
   "outputs": [],
   "source": [
    "q3_2017"
   ]
  },
  {
   "cell_type": "code",
   "execution_count": null,
   "metadata": {},
   "outputs": [],
   "source": [
    "route_station_2017_1 = np.where(q1_2017['from_station_name'] == q1_2017['to_station_name'], 'Init point', 'different point')\n",
    "route_station_2017_2 = np.where(q2_2017['from_station_name'] == q2_2017['to_station_name'], 'Init point', 'different point')\n",
    "route_station_2017_3 = np.where(q3_2017['from_station_name'] == q3_2017['to_station_name'], 'Init point', 'different point')\n",
    "route_station_2017_4 = np.where(q4_2017['from_station_name'] == q4_2017['to_station_name'], 'Init point', 'different point')"
   ]
  },
  {
   "cell_type": "code",
   "execution_count": null,
   "metadata": {},
   "outputs": [],
   "source": [
    "route_station_2017_1"
   ]
  },
  {
   "cell_type": "code",
   "execution_count": null,
   "metadata": {},
   "outputs": [],
   "source": [
    "q1_2017['Return point'] = route_station_2017_1\n",
    "q2_2017['Return point'] = route_station_2017_2\n",
    "q3_2017['Return point'] = route_station_2017_3\n",
    "q4_2017['Return point'] = route_station_2017_4"
   ]
  },
  {
   "cell_type": "code",
   "execution_count": null,
   "metadata": {},
   "outputs": [],
   "source": [
    "return_point_2017_1 = q1_2017['Return point'].value_counts() \n",
    "return_point_2017_2 = q2_2017['Return point'].value_counts() \n",
    "return_point_2017_3 = q3_2017['Return point'].value_counts() \n",
    "return_point_2017_4 = q4_2017['Return point'].value_counts() "
   ]
  },
  {
   "cell_type": "code",
   "execution_count": null,
   "metadata": {},
   "outputs": [],
   "source": [
    "All_bike_2017_1 = q1_2017['Return point'].count()\n",
    "All_bike_2017_2 = q2_2017['Return point'].count()\n",
    "All_bike_2017_3 = q3_2017['Return point'].count()\n",
    "All_bike_2017_4 = q4_2017['Return point'].count()"
   ]
  },
  {
   "cell_type": "code",
   "execution_count": null,
   "metadata": {},
   "outputs": [],
   "source": [
    "Init_bike_2017_1 = return_point_2017_1['Init point']\n",
    "Init_bike_2017_2 = return_point_2017_2['Init point']\n",
    "Init_bike_2017_3 = return_point_2017_3['Init point']\n",
    "Init_bike_2017_4 = return_point_2017_4['Init point']"
   ]
  },
  {
   "cell_type": "code",
   "execution_count": null,
   "metadata": {},
   "outputs": [],
   "source": [
    "bike_returned_2017_1 = (Init_bike_2017_1/All_bike_2017_1)*100\n",
    "bike_returned_2017_2 = (Init_bike_2017_2/All_bike_2017_2)*100\n",
    "bike_returned_2017_3 = (Init_bike_2017_3/All_bike_2017_3)*100\n",
    "bike_returned_2017_4 = (Init_bike_2017_4/All_bike_2017_4)*100"
   ]
  },
  {
   "cell_type": "code",
   "execution_count": null,
   "metadata": {},
   "outputs": [],
   "source": [
    "toronto = [q1_2017, q2_2017, q3_2017, q4_2017]\n",
    "bike_share_2017 = pd.concat(toronto)\n",
    "bike_share_2017.head()"
   ]
  },
  {
   "cell_type": "code",
   "execution_count": null,
   "metadata": {},
   "outputs": [],
   "source": [
    "route_station_2017_concat = np.where(bike_share_2017['from_station_id'] ==bike_share_2017['to_station_id'], 'Init point', 'different point')"
   ]
  },
  {
   "cell_type": "code",
   "execution_count": null,
   "metadata": {},
   "outputs": [],
   "source": [
    "route_station_2017_concat "
   ]
  },
  {
   "cell_type": "code",
   "execution_count": null,
   "metadata": {},
   "outputs": [],
   "source": [
    "bike_share_2017['Return point'] = route_station_2017_concat "
   ]
  },
  {
   "cell_type": "code",
   "execution_count": null,
   "metadata": {},
   "outputs": [],
   "source": [
    "return_point_2017_concat = bike_share_2017['Return point'].value_counts()"
   ]
  },
  {
   "cell_type": "code",
   "execution_count": null,
   "metadata": {},
   "outputs": [],
   "source": [
    "return_point_2017_concat "
   ]
  },
  {
   "cell_type": "code",
   "execution_count": null,
   "metadata": {},
   "outputs": [],
   "source": [
    "All_bike_2017 = bike_share_2017['Return point'].count()\n",
    "Init_bike_2017 = return_point_2017_concat['Init point']\n",
    "bike_returned_2017 = (Init_bike_2017/All_bike_2017)*100"
   ]
  },
  {
   "cell_type": "code",
   "execution_count": null,
   "metadata": {},
   "outputs": [],
   "source": [
    "print('Percentage of all Quarter 2017')\n",
    "print('Q1 2017 : %.2f' %bike_returned_2017_1, '%')  \n",
    "print('Q2 2017 : %.2f' %bike_returned_2017_2, '%')  \n",
    "print('Q3 2017 : %.2f' %bike_returned_2017_3, '%')  \n",
    "print('Q4 2017 : %.2f' %bike_returned_2017_4, '%')  "
   ]
  },
  {
   "cell_type": "code",
   "execution_count": null,
   "metadata": {},
   "outputs": [],
   "source": [
    "print('Percentage of 2017 is %.2f' %bike_returned_2017, '%' )"
   ]
  },
  {
   "cell_type": "markdown",
   "metadata": {},
   "source": [
    "TAHUN 2018"
   ]
  },
  {
   "cell_type": "code",
   "execution_count": null,
   "metadata": {},
   "outputs": [],
   "source": [
    "q1_2018 = pd.read_csv('C:\\\\Users\\\\ASUS\\\\bikeshare2018\\\\bikeshare2018\\\\Bike Share Toronto Ridership_Q1 2018.csv')\n",
    "q2_2018= pd.read_csv('C:\\\\Users\\\\ASUS\\\\bikeshare2018\\\\bikeshare2018\\\\Bike Share Toronto Ridership_Q2 2018.csv')\n",
    "q3_2018 = pd.read_csv('C:\\\\Users\\\\ASUS\\\\bikeshare2018\\\\bikeshare2018\\\\Bike Share Toronto Ridership_Q3 2018.csv')\n",
    "q4_2018 = pd.read_csv('C:\\\\Users\\\\ASUS\\\\bikeshare2018\\\\bikeshare2018\\\\Bike Share Toronto Ridership_Q4 2018.csv')"
   ]
  },
  {
   "cell_type": "code",
   "execution_count": null,
   "metadata": {},
   "outputs": [],
   "source": [
    "route_station_2018_1 = np.where(q1_2018['from_station_name'] == q1_2018['to_station_name'], 'Init point', 'different point')\n",
    "route_station_2018_2 = np.where(q2_2018['from_station_name'] == q2_2018['to_station_name'], 'Init point', 'different point')\n",
    "route_station_2018_3 = np.where(q3_2018['from_station_name'] == q3_2018['to_station_name'], 'Init point', 'different point')\n",
    "route_station_2018_4 = np.where(q4_2018['from_station_name'] == q4_2018['to_station_name'], 'Init point', 'different point')"
   ]
  },
  {
   "cell_type": "code",
   "execution_count": null,
   "metadata": {},
   "outputs": [],
   "source": [
    "route_station_2018_1 "
   ]
  },
  {
   "cell_type": "code",
   "execution_count": null,
   "metadata": {},
   "outputs": [],
   "source": [
    "q1_2018['Return point'] = route_station_2018_1\n",
    "q2_2018['Return point'] = route_station_2018_2\n",
    "q3_2018['Return point'] = route_station_2018_3\n",
    "q4_2018['Return point'] = route_station_2018_4"
   ]
  },
  {
   "cell_type": "code",
   "execution_count": null,
   "metadata": {},
   "outputs": [],
   "source": [
    "return_point_2018_1 = q1_2018['Return point'].value_counts() \n",
    "return_point_2018_2 = q2_2018['Return point'].value_counts() \n",
    "return_point_2018_3 = q3_2018['Return point'].value_counts() \n",
    "return_point_2018_4 = q4_2018['Return point'].value_counts() "
   ]
  },
  {
   "cell_type": "code",
   "execution_count": null,
   "metadata": {},
   "outputs": [],
   "source": [
    "All_bike_2018_1 = q1_2018['Return point'].count()\n",
    "All_bike_2018_2 = q2_2018['Return point'].count()\n",
    "All_bike_2018_3 = q3_2018['Return point'].count()\n",
    "All_bike_2018_4 = q4_2018['Return point'].count()"
   ]
  },
  {
   "cell_type": "code",
   "execution_count": null,
   "metadata": {},
   "outputs": [],
   "source": [
    "Init_bike_2018_1 = return_point_2018_1['Init point']\n",
    "Init_bike_2018_2 = return_point_2018_2['Init point']\n",
    "Init_bike_2018_3 = return_point_2018_3['Init point']\n",
    "Init_bike_2018_4 = return_point_2018_4['Init point']"
   ]
  },
  {
   "cell_type": "code",
   "execution_count": null,
   "metadata": {},
   "outputs": [],
   "source": [
    "bike_returned_2018_1 = (Init_bike_2018_1/All_bike_2018_1)*100\n",
    "bike_returned_2018_2 = (Init_bike_2018_2/All_bike_2018_2)*100\n",
    "bike_returned_2018_3 = (Init_bike_2018_3/All_bike_2018_3)*100\n",
    "bike_returned_2018_4 = (Init_bike_2018_4/All_bike_2018_4)*100"
   ]
  },
  {
   "cell_type": "code",
   "execution_count": null,
   "metadata": {
    "scrolled": true
   },
   "outputs": [],
   "source": [
    "toronto = [q1_2018, q2_2018, q3_2018, q4_2018]\n",
    "bike_share_2018 = pd.concat(toronto)\n",
    "bike_share_2018.head()"
   ]
  },
  {
   "cell_type": "code",
   "execution_count": null,
   "metadata": {},
   "outputs": [],
   "source": [
    "route_station_2018_concat = np.where(bike_share_2018['from_station_id'] ==bike_share_2018['to_station_id'], 'Init point', 'different point')"
   ]
  },
  {
   "cell_type": "code",
   "execution_count": null,
   "metadata": {},
   "outputs": [],
   "source": [
    "route_station_2018_concat "
   ]
  },
  {
   "cell_type": "code",
   "execution_count": null,
   "metadata": {},
   "outputs": [],
   "source": [
    "bike_share_2018['Return point'] = route_station_2018_concat "
   ]
  },
  {
   "cell_type": "code",
   "execution_count": null,
   "metadata": {},
   "outputs": [],
   "source": [
    "return_point_2018_concat = bike_share_2018['Return point'].value_counts()"
   ]
  },
  {
   "cell_type": "code",
   "execution_count": null,
   "metadata": {},
   "outputs": [],
   "source": [
    "return_point_2018_concat "
   ]
  },
  {
   "cell_type": "code",
   "execution_count": null,
   "metadata": {},
   "outputs": [],
   "source": [
    "All_bike_2018 = bike_share_2018['Return point'].count()\n",
    "Init_bike_2018 = return_point_2018_concat['Init point']\n",
    "bike_returned_2018 = (Init_bike_2018/All_bike_2018)*100"
   ]
  },
  {
   "cell_type": "code",
   "execution_count": null,
   "metadata": {},
   "outputs": [],
   "source": [
    "print('Percentage of all Quarter 2018')\n",
    "print('Q1 2018 : %.2f' %bike_returned_2018_1, '%')  \n",
    "print('Q2 2018 : %.2f' %bike_returned_2018_2, '%')  \n",
    "print('Q3 2018 : %.2f' %bike_returned_2018_3, '%')  \n",
    "print('Q4 2018 : %.2f' %bike_returned_2018_4, '%')  "
   ]
  },
  {
   "cell_type": "code",
   "execution_count": null,
   "metadata": {},
   "outputs": [],
   "source": [
    "print('Percentage of 2018 is %.2f' %bike_returned_2018, '%' )"
   ]
  },
  {
   "cell_type": "markdown",
   "metadata": {},
   "source": [
    "b. How many bikeshare trips usually\n",
    "visit more than just start/end points,\n",
    "but visited some other points before\n",
    "the end of the day?"
   ]
  },
  {
   "cell_type": "markdown",
   "metadata": {},
   "source": [
    "2017"
   ]
  },
  {
   "cell_type": "code",
   "execution_count": null,
   "metadata": {},
   "outputs": [],
   "source": [
    "bike_share_2017['trip_start_time'] = pd.to_datetime(bike_share_2017['trip_start_time'])"
   ]
  },
  {
   "cell_type": "code",
   "execution_count": null,
   "metadata": {},
   "outputs": [],
   "source": [
    "bike_share_2017['trip_stop_time'] = pd.to_datetime(bike_share_2017['trip_stop_time'], errors='coerce')"
   ]
  },
  {
   "cell_type": "code",
   "execution_count": null,
   "metadata": {},
   "outputs": [],
   "source": [
    "bike_share_2017['day_start'] = bike_share_2017['trip_start_time'].apply(lambda time: time.dayofweek)\n",
    "bike_share_2017['day_stop'] = bike_share_2017['trip_stop_time'].apply(lambda time: time.dayofweek)"
   ]
  },
  {
   "cell_type": "code",
   "execution_count": null,
   "metadata": {},
   "outputs": [],
   "source": [
    "day = {0:'Mon',1:'Tue',2:'Wed',3:'Thu',4:'Fri',5:'Sat',6:'Sun'}\n",
    "bike_share_2017['day_start'] = bike_share_2017['day_start'].map(day)\n",
    "bike_share_2017['day_stop'] = bike_share_2017['day_stop'].map(day)"
   ]
  },
  {
   "cell_type": "code",
   "execution_count": null,
   "metadata": {},
   "outputs": [],
   "source": [
    "bike_share_2017.head()"
   ]
  },
  {
   "cell_type": "code",
   "execution_count": null,
   "metadata": {},
   "outputs": [],
   "source": [
    "date_time_2017_concat = np.where(bike_share_2017['day_start'] ==bike_share_2017['day_stop'], 'Before The End of The Day', 'After The End of The Day')"
   ]
  },
  {
   "cell_type": "code",
   "execution_count": null,
   "metadata": {},
   "outputs": [],
   "source": [
    "date_time_2017_concat"
   ]
  },
  {
   "cell_type": "code",
   "execution_count": null,
   "metadata": {},
   "outputs": [],
   "source": [
    "bike_share_2017['Time Return'] = date_time_2017_concat "
   ]
  },
  {
   "cell_type": "code",
   "execution_count": null,
   "metadata": {},
   "outputs": [],
   "source": [
    "date_time_2017_concat = bike_share_2017['Time Return'].value_counts()"
   ]
  },
  {
   "cell_type": "code",
   "execution_count": null,
   "metadata": {},
   "outputs": [],
   "source": [
    "date_time_2017_concat"
   ]
  },
  {
   "cell_type": "code",
   "execution_count": null,
   "metadata": {},
   "outputs": [],
   "source": [
    "All_time_bike_2017 = bike_share_2017['Time Return'].count()\n",
    "Before_TEoTD_bike_2017 = date_time_2017_concat['Before The End of The Day']\n",
    "bike_time_returned_2017 = (Before_TEoTD_bike_2017 /All_time_bike_2017)*100"
   ]
  },
  {
   "cell_type": "code",
   "execution_count": null,
   "metadata": {},
   "outputs": [],
   "source": [
    "print('Percentage Time Returned Before The End of The Day of 2017 is %.2f' %bike_time_returned_2017 , '%' )"
   ]
  },
  {
   "cell_type": "markdown",
   "metadata": {},
   "source": [
    "2018"
   ]
  },
  {
   "cell_type": "code",
   "execution_count": null,
   "metadata": {},
   "outputs": [],
   "source": [
    "bike_share_2018['trip_start_time'] = pd.to_datetime(bike_share_2018['trip_start_time'])\n",
    "bike_share_2018['trip_stop_time'] = pd.to_datetime(bike_share_2018['trip_stop_time'])"
   ]
  },
  {
   "cell_type": "code",
   "execution_count": null,
   "metadata": {},
   "outputs": [],
   "source": [
    "bike_share_2018['day_start'] = bike_share_2018['trip_start_time'].apply(lambda time: time.dayofweek)\n",
    "bike_share_2018['day_stop'] = bike_share_2018['trip_stop_time'].apply(lambda time: time.dayofweek)"
   ]
  },
  {
   "cell_type": "code",
   "execution_count": null,
   "metadata": {},
   "outputs": [],
   "source": [
    "day = {0:'Mon',1:'Tue',2:'Wed',3:'Thu',4:'Fri',5:'Sat',6:'Sun'}\n",
    "bike_share_2018['day_start'] = bike_share_2018['day_start'].map(day)\n",
    "bike_share_2018['day_stop'] = bike_share_2018['day_stop'].map(day)"
   ]
  },
  {
   "cell_type": "code",
   "execution_count": null,
   "metadata": {},
   "outputs": [],
   "source": [
    "bike_share_2018.head()"
   ]
  },
  {
   "cell_type": "code",
   "execution_count": null,
   "metadata": {},
   "outputs": [],
   "source": [
    "date_time_2018_concat = np.where(bike_share_2018['day_start'] ==bike_share_2018['day_stop'], 'Before The End of The Day', 'After The End of The Day')"
   ]
  },
  {
   "cell_type": "code",
   "execution_count": null,
   "metadata": {},
   "outputs": [],
   "source": [
    "date_time_2018_concat"
   ]
  },
  {
   "cell_type": "code",
   "execution_count": null,
   "metadata": {},
   "outputs": [],
   "source": [
    "bike_share_2018['Time Return'] = date_time_2018_concat "
   ]
  },
  {
   "cell_type": "code",
   "execution_count": null,
   "metadata": {},
   "outputs": [],
   "source": [
    "date_time_2018_concat = bike_share_2018['Time Return'].value_counts()"
   ]
  },
  {
   "cell_type": "code",
   "execution_count": null,
   "metadata": {},
   "outputs": [],
   "source": [
    "date_time_2018_concat"
   ]
  },
  {
   "cell_type": "code",
   "execution_count": null,
   "metadata": {},
   "outputs": [],
   "source": [
    "All_time_bike_2018 = bike_share_2018['Time Return'].count()\n",
    "Before_TEoTD_bike_2018 = date_time_2018_concat['Before The End of The Day']\n",
    "bike_time_returned_2018 = (Before_TEoTD_bike_2018 /All_time_bike_2018)*100"
   ]
  },
  {
   "cell_type": "code",
   "execution_count": null,
   "metadata": {},
   "outputs": [],
   "source": [
    "print('Percentage Time Returned Before The End of The Day of 2018 is %.2f' %bike_time_returned_2018 , '%' )"
   ]
  },
  {
   "cell_type": "code",
   "execution_count": null,
   "metadata": {},
   "outputs": [],
   "source": [
    "import matplotlib.pyplot as plt\n",
    "import seaborn as sns\n",
    "%matplotlib inline"
   ]
  },
  {
   "cell_type": "code",
   "execution_count": null,
   "metadata": {},
   "outputs": [],
   "source": [
    "plt.figure(figsize=(10,5))\n",
    "sns.set_style('whitegrid')\n",
    "sns.countplot(x='user_type',data=bike_share_2018,palette='viridis')\n",
    "plt.title('Bike Share Toronto Membership 2018')"
   ]
  }
 ],
 "metadata": {
  "kernelspec": {
   "display_name": "Python 3",
   "language": "python",
   "name": "python3"
  },
  "language_info": {
   "codemirror_mode": {
    "name": "ipython",
    "version": 3
   },
   "file_extension": ".py",
   "mimetype": "text/x-python",
   "name": "python",
   "nbconvert_exporter": "python",
   "pygments_lexer": "ipython3",
   "version": "3.8.3"
  }
 },
 "nbformat": 4,
 "nbformat_minor": 4
}
