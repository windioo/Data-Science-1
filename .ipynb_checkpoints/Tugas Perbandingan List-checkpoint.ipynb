{
 "cells": [
  {
   "cell_type": "code",
   "execution_count": null,
   "metadata": {},
   "outputs": [],
   "source": [
    "List1 = [1,2,3,4,5]\n",
    "List2 = [2,3,1,2,4]\n",
    "ListBaru= []"
   ]
  },
  {
   "cell_type": "code",
   "execution_count": 3,
   "metadata": {},
   "outputs": [
    {
     "name": "stdout",
     "output_type": "stream",
     "text": [
      "[1, 2, 1, 2, 4, 1]\n"
     ]
    }
   ],
   "source": [
    "w=0\n",
    "while(ListBaru == ListBaru[0:5]):\n",
    "    ListBarus = min(List1[w],List2[w])\n",
    "    ListBaru.append(ListBarus)\n",
    "    w += 1\n",
    "print(ListBaru)"
   ]
  },
  {
   "cell_type": "code",
   "execution_count": null,
   "metadata": {},
   "outputs": [],
   "source": []
  },
  {
   "cell_type": "code",
   "execution_count": null,
   "metadata": {},
   "outputs": [],
   "source": []
  }
 ],
 "metadata": {
  "kernelspec": {
   "display_name": "Python 3",
   "language": "python",
   "name": "python3"
  }
 },
 "nbformat": 4,
 "nbformat_minor": 4
}
