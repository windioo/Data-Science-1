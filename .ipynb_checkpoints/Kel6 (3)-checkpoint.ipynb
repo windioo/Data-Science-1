{
 "cells": [
  {
   "cell_type": "code",
   "execution_count": 21,
   "metadata": {},
   "outputs": [],
   "source": [
    "import pandas as pd\n",
    "import numpy as np"
   ]
  },
  {
   "cell_type": "markdown",
   "metadata": {},
   "source": [
    "a. Find out what percentage of bikes are returned to its initial location?"
   ]
  },
  {
   "cell_type": "markdown",
   "metadata": {},
   "source": [
    "TAHUN 2017"
   ]
  },
  {
   "cell_type": "code",
   "execution_count": 22,
   "metadata": {},
   "outputs": [],
   "source": [
    "q1_2017 = pd.read_csv('C:\\\\Users\\\\ASUS\\\\bikeshare-ridership-2017\\\\Bikeshare Ridership (2017 Q1).csv')\n",
    "q2_2017 = pd.read_csv('C:\\\\Users\\\\ASUS\\\\bikeshare-ridership-2017\\\\Bikeshare Ridership (2017 Q2).csv')\n",
    "q3_2017 = pd.read_csv('C:\\\\Users\\\\ASUS\\\\bikeshare-ridership-2017\\\\Bikeshare Ridership (2017 Q3).csv')\n",
    "q4_2017 = pd.read_csv('C:\\\\Users\\\\ASUS\\\\bikeshare-ridership-2017\\\\Bikeshare Ridership (2017 Q4).csv')"
   ]
  },
  {
   "cell_type": "code",
   "execution_count": 23,
   "metadata": {},
   "outputs": [
    {
     "data": {
      "text/html": [
       "<div>\n",
       "<style scoped>\n",
       "    .dataframe tbody tr th:only-of-type {\n",
       "        vertical-align: middle;\n",
       "    }\n",
       "\n",
       "    .dataframe tbody tr th {\n",
       "        vertical-align: top;\n",
       "    }\n",
       "\n",
       "    .dataframe thead th {\n",
       "        text-align: right;\n",
       "    }\n",
       "</style>\n",
       "<table border=\"1\" class=\"dataframe\">\n",
       "  <thead>\n",
       "    <tr style=\"text-align: right;\">\n",
       "      <th></th>\n",
       "      <th>trip_id</th>\n",
       "      <th>trip_start_time</th>\n",
       "      <th>trip_stop_time</th>\n",
       "      <th>trip_duration_seconds</th>\n",
       "      <th>from_station_name</th>\n",
       "      <th>to_station_name</th>\n",
       "      <th>user_type</th>\n",
       "    </tr>\n",
       "  </thead>\n",
       "  <tbody>\n",
       "    <tr>\n",
       "      <th>0</th>\n",
       "      <td>1253914</td>\n",
       "      <td>7/1/2017 0:00</td>\n",
       "      <td>7/1/2017 0:15</td>\n",
       "      <td>910</td>\n",
       "      <td>Princess St / Adelaide St E</td>\n",
       "      <td>424 Wellington St W</td>\n",
       "      <td>Member</td>\n",
       "    </tr>\n",
       "    <tr>\n",
       "      <th>1</th>\n",
       "      <td>1253915</td>\n",
       "      <td>7/1/2017 0:01</td>\n",
       "      <td>7/1/2017 0:15</td>\n",
       "      <td>837</td>\n",
       "      <td>Fort York  Blvd / Capreol Crt</td>\n",
       "      <td>HTO Park (Queens Quay W)</td>\n",
       "      <td>Casual</td>\n",
       "    </tr>\n",
       "    <tr>\n",
       "      <th>2</th>\n",
       "      <td>1253916</td>\n",
       "      <td>7/1/2017 0:01</td>\n",
       "      <td>7/1/2017 0:14</td>\n",
       "      <td>786</td>\n",
       "      <td>Fort York  Blvd / Capreol Crt</td>\n",
       "      <td>HTO Park (Queens Quay W)</td>\n",
       "      <td>Casual</td>\n",
       "    </tr>\n",
       "    <tr>\n",
       "      <th>3</th>\n",
       "      <td>1253917</td>\n",
       "      <td>7/1/2017 0:01</td>\n",
       "      <td>7/1/2017 0:25</td>\n",
       "      <td>1420</td>\n",
       "      <td>Elizabeth St / Edward St (Bus Terminal)</td>\n",
       "      <td>Boston Ave / Queen St E</td>\n",
       "      <td>Casual</td>\n",
       "    </tr>\n",
       "    <tr>\n",
       "      <th>4</th>\n",
       "      <td>1253918</td>\n",
       "      <td>7/1/2017 0:01</td>\n",
       "      <td>7/1/2017 0:25</td>\n",
       "      <td>1437</td>\n",
       "      <td>Elizabeth St / Edward St (Bus Terminal)</td>\n",
       "      <td>Boston Ave / Queen St E</td>\n",
       "      <td>Casual</td>\n",
       "    </tr>\n",
       "    <tr>\n",
       "      <th>...</th>\n",
       "      <td>...</td>\n",
       "      <td>...</td>\n",
       "      <td>...</td>\n",
       "      <td>...</td>\n",
       "      <td>...</td>\n",
       "      <td>...</td>\n",
       "      <td>...</td>\n",
       "    </tr>\n",
       "    <tr>\n",
       "      <th>663483</th>\n",
       "      <td>1971680</td>\n",
       "      <td>9/30/2017 23:59</td>\n",
       "      <td>10/1/2017 0:04</td>\n",
       "      <td>337</td>\n",
       "      <td>Jarvis St / Isabella St</td>\n",
       "      <td>Yonge St / Yorkville Ave</td>\n",
       "      <td>Member</td>\n",
       "    </tr>\n",
       "    <tr>\n",
       "      <th>663484</th>\n",
       "      <td>1971681</td>\n",
       "      <td>9/30/2017 23:59</td>\n",
       "      <td>10/1/2017 0:07</td>\n",
       "      <td>494</td>\n",
       "      <td>Dundonald St / Church St</td>\n",
       "      <td>Victoria St / Gould St (Ryerson University)</td>\n",
       "      <td>Member</td>\n",
       "    </tr>\n",
       "    <tr>\n",
       "      <th>663485</th>\n",
       "      <td>1971682</td>\n",
       "      <td>9/30/2017 23:59</td>\n",
       "      <td>10/1/2017 0:18</td>\n",
       "      <td>1114</td>\n",
       "      <td>Baldwin Ave / Spadina Ave - SMART</td>\n",
       "      <td>Hanna Ave / Liberty St</td>\n",
       "      <td>Member</td>\n",
       "    </tr>\n",
       "    <tr>\n",
       "      <th>663486</th>\n",
       "      <td>1971683</td>\n",
       "      <td>9/30/2017 23:59</td>\n",
       "      <td>10/1/2017 0:19</td>\n",
       "      <td>1192</td>\n",
       "      <td>Queens Quay W / Lower Simcoe St</td>\n",
       "      <td>Exhibition GO Station</td>\n",
       "      <td>Casual</td>\n",
       "    </tr>\n",
       "    <tr>\n",
       "      <th>663487</th>\n",
       "      <td>1971684</td>\n",
       "      <td>9/30/2017 23:59</td>\n",
       "      <td>10/1/2017 0:19</td>\n",
       "      <td>1190</td>\n",
       "      <td>Queens Quay W / Lower Simcoe St</td>\n",
       "      <td>Exhibition GO Station</td>\n",
       "      <td>Casual</td>\n",
       "    </tr>\n",
       "  </tbody>\n",
       "</table>\n",
       "<p>663488 rows × 7 columns</p>\n",
       "</div>"
      ],
      "text/plain": [
       "        trip_id  trip_start_time  trip_stop_time  trip_duration_seconds  \\\n",
       "0       1253914    7/1/2017 0:00   7/1/2017 0:15                    910   \n",
       "1       1253915    7/1/2017 0:01   7/1/2017 0:15                    837   \n",
       "2       1253916    7/1/2017 0:01   7/1/2017 0:14                    786   \n",
       "3       1253917    7/1/2017 0:01   7/1/2017 0:25                   1420   \n",
       "4       1253918    7/1/2017 0:01   7/1/2017 0:25                   1437   \n",
       "...         ...              ...             ...                    ...   \n",
       "663483  1971680  9/30/2017 23:59  10/1/2017 0:04                    337   \n",
       "663484  1971681  9/30/2017 23:59  10/1/2017 0:07                    494   \n",
       "663485  1971682  9/30/2017 23:59  10/1/2017 0:18                   1114   \n",
       "663486  1971683  9/30/2017 23:59  10/1/2017 0:19                   1192   \n",
       "663487  1971684  9/30/2017 23:59  10/1/2017 0:19                   1190   \n",
       "\n",
       "                              from_station_name  \\\n",
       "0                   Princess St / Adelaide St E   \n",
       "1                 Fort York  Blvd / Capreol Crt   \n",
       "2                 Fort York  Blvd / Capreol Crt   \n",
       "3       Elizabeth St / Edward St (Bus Terminal)   \n",
       "4       Elizabeth St / Edward St (Bus Terminal)   \n",
       "...                                         ...   \n",
       "663483                  Jarvis St / Isabella St   \n",
       "663484                 Dundonald St / Church St   \n",
       "663485        Baldwin Ave / Spadina Ave - SMART   \n",
       "663486          Queens Quay W / Lower Simcoe St   \n",
       "663487          Queens Quay W / Lower Simcoe St   \n",
       "\n",
       "                                    to_station_name user_type  \n",
       "0                               424 Wellington St W    Member  \n",
       "1                          HTO Park (Queens Quay W)    Casual  \n",
       "2                          HTO Park (Queens Quay W)    Casual  \n",
       "3                           Boston Ave / Queen St E    Casual  \n",
       "4                           Boston Ave / Queen St E    Casual  \n",
       "...                                             ...       ...  \n",
       "663483                     Yonge St / Yorkville Ave    Member  \n",
       "663484  Victoria St / Gould St (Ryerson University)    Member  \n",
       "663485                       Hanna Ave / Liberty St    Member  \n",
       "663486                        Exhibition GO Station    Casual  \n",
       "663487                        Exhibition GO Station    Casual  \n",
       "\n",
       "[663488 rows x 7 columns]"
      ]
     },
     "execution_count": 23,
     "metadata": {},
     "output_type": "execute_result"
    }
   ],
   "source": [
    "q3_2017"
   ]
  },
  {
   "cell_type": "code",
   "execution_count": 24,
   "metadata": {},
   "outputs": [],
   "source": [
    "route_station_2017_1 = np.where(q1_2017['from_station_name'] == q1_2017['to_station_name'], 'Init point', 'different point')\n",
    "route_station_2017_2 = np.where(q2_2017['from_station_name'] == q2_2017['to_station_name'], 'Init point', 'different point')\n",
    "route_station_2017_3 = np.where(q3_2017['from_station_name'] == q3_2017['to_station_name'], 'Init point', 'different point')\n",
    "route_station_2017_4 = np.where(q4_2017['from_station_name'] == q4_2017['to_station_name'], 'Init point', 'different point')"
   ]
  },
  {
   "cell_type": "code",
   "execution_count": 25,
   "metadata": {},
   "outputs": [
    {
     "data": {
      "text/plain": [
       "array(['different point', 'different point', 'different point', ...,\n",
       "       'different point', 'different point', 'different point'],\n",
       "      dtype='<U15')"
      ]
     },
     "execution_count": 25,
     "metadata": {},
     "output_type": "execute_result"
    }
   ],
   "source": [
    "route_station_2017_1"
   ]
  },
  {
   "cell_type": "code",
   "execution_count": 26,
   "metadata": {},
   "outputs": [],
   "source": [
    "q1_2017['Return point'] = route_station_2017_1\n",
    "q2_2017['Return point'] = route_station_2017_2\n",
    "q3_2017['Return point'] = route_station_2017_3\n",
    "q4_2017['Return point'] = route_station_2017_4"
   ]
  },
  {
   "cell_type": "code",
   "execution_count": 27,
   "metadata": {},
   "outputs": [],
   "source": [
    "return_point_2017_1 = q1_2017['Return point'].value_counts() \n",
    "return_point_2017_2 = q2_2017['Return point'].value_counts() \n",
    "return_point_2017_3 = q3_2017['Return point'].value_counts() \n",
    "return_point_2017_4 = q4_2017['Return point'].value_counts() "
   ]
  },
  {
   "cell_type": "code",
   "execution_count": 28,
   "metadata": {},
   "outputs": [],
   "source": [
    "All_bike_2017_1 = q1_2017['Return point'].count()\n",
    "All_bike_2017_2 = q2_2017['Return point'].count()\n",
    "All_bike_2017_3 = q3_2017['Return point'].count()\n",
    "All_bike_2017_4 = q4_2017['Return point'].count()"
   ]
  },
  {
   "cell_type": "code",
   "execution_count": 29,
   "metadata": {},
   "outputs": [],
   "source": [
    "Init_bike_2017_1 = return_point_2017_1['Init point']\n",
    "Init_bike_2017_2 = return_point_2017_2['Init point']\n",
    "Init_bike_2017_3 = return_point_2017_3['Init point']\n",
    "Init_bike_2017_4 = return_point_2017_4['Init point']"
   ]
  },
  {
   "cell_type": "code",
   "execution_count": 30,
   "metadata": {},
   "outputs": [],
   "source": [
    "bike_returned_2017_1 = (Init_bike_2017_1/All_bike_2017_1)*100\n",
    "bike_returned_2017_2 = (Init_bike_2017_2/All_bike_2017_2)*100\n",
    "bike_returned_2017_3 = (Init_bike_2017_3/All_bike_2017_3)*100\n",
    "bike_returned_2017_4 = (Init_bike_2017_4/All_bike_2017_4)*100"
   ]
  },
  {
   "cell_type": "code",
   "execution_count": 31,
   "metadata": {},
   "outputs": [
    {
     "data": {
      "text/html": [
       "<div>\n",
       "<style scoped>\n",
       "    .dataframe tbody tr th:only-of-type {\n",
       "        vertical-align: middle;\n",
       "    }\n",
       "\n",
       "    .dataframe tbody tr th {\n",
       "        vertical-align: top;\n",
       "    }\n",
       "\n",
       "    .dataframe thead th {\n",
       "        text-align: right;\n",
       "    }\n",
       "</style>\n",
       "<table border=\"1\" class=\"dataframe\">\n",
       "  <thead>\n",
       "    <tr style=\"text-align: right;\">\n",
       "      <th></th>\n",
       "      <th>trip_id</th>\n",
       "      <th>trip_start_time</th>\n",
       "      <th>trip_stop_time</th>\n",
       "      <th>trip_duration_seconds</th>\n",
       "      <th>from_station_id</th>\n",
       "      <th>from_station_name</th>\n",
       "      <th>to_station_id</th>\n",
       "      <th>to_station_name</th>\n",
       "      <th>user_type</th>\n",
       "      <th>Return point</th>\n",
       "    </tr>\n",
       "  </thead>\n",
       "  <tbody>\n",
       "    <tr>\n",
       "      <th>0</th>\n",
       "      <td>712382</td>\n",
       "      <td>1/1/2017 0:00</td>\n",
       "      <td>1/1/2017 0:03</td>\n",
       "      <td>223</td>\n",
       "      <td>7051.0</td>\n",
       "      <td>Wellesley St E / Yonge St Green P</td>\n",
       "      <td>7089.0</td>\n",
       "      <td>Church St  / Wood St</td>\n",
       "      <td>Member</td>\n",
       "      <td>different point</td>\n",
       "    </tr>\n",
       "    <tr>\n",
       "      <th>1</th>\n",
       "      <td>712383</td>\n",
       "      <td>1/1/2017 0:00</td>\n",
       "      <td>1/1/2017 0:05</td>\n",
       "      <td>279</td>\n",
       "      <td>7143.0</td>\n",
       "      <td>Kendal Ave / Bernard Ave</td>\n",
       "      <td>7154.0</td>\n",
       "      <td>Bathurst Subway Station</td>\n",
       "      <td>Member</td>\n",
       "      <td>different point</td>\n",
       "    </tr>\n",
       "    <tr>\n",
       "      <th>2</th>\n",
       "      <td>712384</td>\n",
       "      <td>1/1/2017 0:05</td>\n",
       "      <td>1/1/2017 0:29</td>\n",
       "      <td>1394</td>\n",
       "      <td>7113.0</td>\n",
       "      <td>Parliament St / Aberdeen Ave</td>\n",
       "      <td>7199.0</td>\n",
       "      <td>College St W / Markham St</td>\n",
       "      <td>Member</td>\n",
       "      <td>different point</td>\n",
       "    </tr>\n",
       "    <tr>\n",
       "      <th>3</th>\n",
       "      <td>712385</td>\n",
       "      <td>1/1/2017 0:07</td>\n",
       "      <td>1/1/2017 0:21</td>\n",
       "      <td>826</td>\n",
       "      <td>7077.0</td>\n",
       "      <td>College Park South</td>\n",
       "      <td>7010.0</td>\n",
       "      <td>King St W / Spadina Ave</td>\n",
       "      <td>Member</td>\n",
       "      <td>different point</td>\n",
       "    </tr>\n",
       "    <tr>\n",
       "      <th>4</th>\n",
       "      <td>712386</td>\n",
       "      <td>1/1/2017 0:08</td>\n",
       "      <td>1/1/2017 0:12</td>\n",
       "      <td>279</td>\n",
       "      <td>7079.0</td>\n",
       "      <td>McGill St / Church St</td>\n",
       "      <td>7047.0</td>\n",
       "      <td>University Ave / Gerrard St W</td>\n",
       "      <td>Member</td>\n",
       "      <td>different point</td>\n",
       "    </tr>\n",
       "  </tbody>\n",
       "</table>\n",
       "</div>"
      ],
      "text/plain": [
       "   trip_id trip_start_time trip_stop_time  trip_duration_seconds  \\\n",
       "0   712382   1/1/2017 0:00  1/1/2017 0:03                    223   \n",
       "1   712383   1/1/2017 0:00  1/1/2017 0:05                    279   \n",
       "2   712384   1/1/2017 0:05  1/1/2017 0:29                   1394   \n",
       "3   712385   1/1/2017 0:07  1/1/2017 0:21                    826   \n",
       "4   712386   1/1/2017 0:08  1/1/2017 0:12                    279   \n",
       "\n",
       "   from_station_id                  from_station_name  to_station_id  \\\n",
       "0           7051.0  Wellesley St E / Yonge St Green P         7089.0   \n",
       "1           7143.0           Kendal Ave / Bernard Ave         7154.0   \n",
       "2           7113.0       Parliament St / Aberdeen Ave         7199.0   \n",
       "3           7077.0                 College Park South         7010.0   \n",
       "4           7079.0              McGill St / Church St         7047.0   \n",
       "\n",
       "                 to_station_name user_type     Return point  \n",
       "0           Church St  / Wood St    Member  different point  \n",
       "1        Bathurst Subway Station    Member  different point  \n",
       "2      College St W / Markham St    Member  different point  \n",
       "3        King St W / Spadina Ave    Member  different point  \n",
       "4  University Ave / Gerrard St W    Member  different point  "
      ]
     },
     "execution_count": 31,
     "metadata": {},
     "output_type": "execute_result"
    }
   ],
   "source": [
    "toronto = [q1_2017, q2_2017, q3_2017, q4_2017]\n",
    "bike_share_2017 = pd.concat(toronto)\n",
    "bike_share_2017.head()"
   ]
  },
  {
   "cell_type": "code",
   "execution_count": 32,
   "metadata": {},
   "outputs": [],
   "source": [
    "route_station_2017_concat = np.where(bike_share_2017['from_station_id'] ==bike_share_2017['to_station_id'], 'Init point', 'different point')"
   ]
  },
  {
   "cell_type": "code",
   "execution_count": 33,
   "metadata": {},
   "outputs": [
    {
     "data": {
      "text/plain": [
       "array(['different point', 'different point', 'different point', ...,\n",
       "       'different point', 'different point', 'different point'],\n",
       "      dtype='<U15')"
      ]
     },
     "execution_count": 33,
     "metadata": {},
     "output_type": "execute_result"
    }
   ],
   "source": [
    "route_station_2017_concat "
   ]
  },
  {
   "cell_type": "code",
   "execution_count": 34,
   "metadata": {},
   "outputs": [],
   "source": [
    "bike_share_2017['Return point'] = route_station_2017_concat "
   ]
  },
  {
   "cell_type": "code",
   "execution_count": 35,
   "metadata": {},
   "outputs": [],
   "source": [
    "return_point_2017_concat = bike_share_2017['Return point'].value_counts()"
   ]
  },
  {
   "cell_type": "code",
   "execution_count": 36,
   "metadata": {},
   "outputs": [
    {
     "data": {
      "text/plain": [
       "different point    1480547\n",
       "Init point           11822\n",
       "Name: Return point, dtype: int64"
      ]
     },
     "execution_count": 36,
     "metadata": {},
     "output_type": "execute_result"
    }
   ],
   "source": [
    "return_point_2017_concat "
   ]
  },
  {
   "cell_type": "code",
   "execution_count": 37,
   "metadata": {},
   "outputs": [],
   "source": [
    "All_bike_2017 = bike_share_2017['Return point'].count()\n",
    "Init_bike_2017 = return_point_2017_concat['Init point']\n",
    "bike_returned_2017 = (Init_bike_2017/All_bike_2017)*100"
   ]
  },
  {
   "cell_type": "code",
   "execution_count": 38,
   "metadata": {},
   "outputs": [
    {
     "name": "stdout",
     "output_type": "stream",
     "text": [
      "Percentage of all Quarter 2017\n",
      "Q1 2017 : 1.17 %\n",
      "Q2 2017 : 3.08 %\n",
      "Q3 2017 : 7.08 %\n",
      "Q4 2017 : 3.57 %\n"
     ]
    }
   ],
   "source": [
    "print('Percentage of all Quarter 2017')\n",
    "print('Q1 2017 : %.2f' %bike_returned_2017_1, '%')  \n",
    "print('Q2 2017 : %.2f' %bike_returned_2017_2, '%')  \n",
    "print('Q3 2017 : %.2f' %bike_returned_2017_3, '%')  \n",
    "print('Q4 2017 : %.2f' %bike_returned_2017_4, '%')  "
   ]
  },
  {
   "cell_type": "code",
   "execution_count": 39,
   "metadata": {},
   "outputs": [
    {
     "name": "stdout",
     "output_type": "stream",
     "text": [
      "Percentage of 2017 is 0.79 %\n"
     ]
    }
   ],
   "source": [
    "print('Percentage of 2017 is %.2f' %bike_returned_2017, '%' )"
   ]
  },
  {
   "cell_type": "markdown",
   "metadata": {},
   "source": [
    "TAHUN 2018"
   ]
  },
  {
   "cell_type": "code",
   "execution_count": 59,
   "metadata": {},
   "outputs": [],
   "source": [
    "q1_2018 = pd.read_csv('C:\\\\Users\\\\ASUS\\\\bikeshare2018\\\\bikeshare2018\\\\Bike Share Toronto Ridership_Q1 2018.csv')\n",
    "q2_2018= pd.read_csv('C:\\\\Users\\\\ASUS\\\\bikeshare2018\\\\bikeshare2018\\\\Bike Share Toronto Ridership_Q2 2018.csv')\n",
    "q3_2018 = pd.read_csv('C:\\\\Users\\\\ASUS\\\\bikeshare2018\\\\bikeshare2018\\\\Bike Share Toronto Ridership_Q3 2018.csv')\n",
    "q4_2018 = pd.read_csv('C:\\\\Users\\\\ASUS\\\\bikeshare2018\\\\bikeshare2018\\\\Bike Share Toronto Ridership_Q4 2018.csv')"
   ]
  },
  {
   "cell_type": "code",
   "execution_count": 60,
   "metadata": {},
   "outputs": [],
   "source": [
    "route_station_2018_1 = np.where(q1_2018['from_station_name'] == q1_2018['to_station_name'], 'Init point', 'different point')\n",
    "route_station_2018_2 = np.where(q2_2018['from_station_name'] == q2_2018['to_station_name'], 'Init point', 'different point')\n",
    "route_station_2018_3 = np.where(q3_2018['from_station_name'] == q3_2018['to_station_name'], 'Init point', 'different point')\n",
    "route_station_2018_4 = np.where(q4_2018['from_station_name'] == q4_2018['to_station_name'], 'Init point', 'different point')"
   ]
  },
  {
   "cell_type": "code",
   "execution_count": 61,
   "metadata": {},
   "outputs": [
    {
     "data": {
      "text/plain": [
       "array(['different point', 'different point', 'different point', ...,\n",
       "       'different point', 'different point', 'different point'],\n",
       "      dtype='<U15')"
      ]
     },
     "execution_count": 61,
     "metadata": {},
     "output_type": "execute_result"
    }
   ],
   "source": [
    "route_station_2018_1 "
   ]
  },
  {
   "cell_type": "code",
   "execution_count": 62,
   "metadata": {},
   "outputs": [],
   "source": [
    "q1_2018['Return point'] = route_station_2018_1\n",
    "q2_2018['Return point'] = route_station_2018_2\n",
    "q3_2018['Return point'] = route_station_2018_3\n",
    "q4_2018['Return point'] = route_station_2018_4"
   ]
  },
  {
   "cell_type": "code",
   "execution_count": 63,
   "metadata": {},
   "outputs": [],
   "source": [
    "return_point_2018_1 = q1_2018['Return point'].value_counts() \n",
    "return_point_2018_2 = q2_2018['Return point'].value_counts() \n",
    "return_point_2018_3 = q3_2018['Return point'].value_counts() \n",
    "return_point_2018_4 = q4_2018['Return point'].value_counts() "
   ]
  },
  {
   "cell_type": "code",
   "execution_count": 64,
   "metadata": {},
   "outputs": [],
   "source": [
    "All_bike_2018_1 = q1_2018['Return point'].count()\n",
    "All_bike_2018_2 = q2_2018['Return point'].count()\n",
    "All_bike_2018_3 = q3_2018['Return point'].count()\n",
    "All_bike_2018_4 = q4_2018['Return point'].count()"
   ]
  },
  {
   "cell_type": "code",
   "execution_count": 65,
   "metadata": {},
   "outputs": [],
   "source": [
    "Init_bike_2018_1 = return_point_2018_1['Init point']\n",
    "Init_bike_2018_2 = return_point_2018_2['Init point']\n",
    "Init_bike_2018_3 = return_point_2018_3['Init point']\n",
    "Init_bike_2018_4 = return_point_2018_4['Init point']"
   ]
  },
  {
   "cell_type": "code",
   "execution_count": 66,
   "metadata": {},
   "outputs": [],
   "source": [
    "bike_returned_2018_1 = (Init_bike_2018_1/All_bike_2018_1)*100\n",
    "bike_returned_2018_2 = (Init_bike_2018_2/All_bike_2018_2)*100\n",
    "bike_returned_2018_3 = (Init_bike_2018_3/All_bike_2018_3)*100\n",
    "bike_returned_2018_4 = (Init_bike_2018_4/All_bike_2018_4)*100"
   ]
  },
  {
   "cell_type": "code",
   "execution_count": 67,
   "metadata": {
    "scrolled": true
   },
   "outputs": [
    {
     "data": {
      "text/html": [
       "<div>\n",
       "<style scoped>\n",
       "    .dataframe tbody tr th:only-of-type {\n",
       "        vertical-align: middle;\n",
       "    }\n",
       "\n",
       "    .dataframe tbody tr th {\n",
       "        vertical-align: top;\n",
       "    }\n",
       "\n",
       "    .dataframe thead th {\n",
       "        text-align: right;\n",
       "    }\n",
       "</style>\n",
       "<table border=\"1\" class=\"dataframe\">\n",
       "  <thead>\n",
       "    <tr style=\"text-align: right;\">\n",
       "      <th></th>\n",
       "      <th>trip_id</th>\n",
       "      <th>trip_duration_seconds</th>\n",
       "      <th>from_station_id</th>\n",
       "      <th>trip_start_time</th>\n",
       "      <th>from_station_name</th>\n",
       "      <th>trip_stop_time</th>\n",
       "      <th>to_station_id</th>\n",
       "      <th>to_station_name</th>\n",
       "      <th>user_type</th>\n",
       "      <th>Return point</th>\n",
       "    </tr>\n",
       "  </thead>\n",
       "  <tbody>\n",
       "    <tr>\n",
       "      <th>0</th>\n",
       "      <td>2383648</td>\n",
       "      <td>393</td>\n",
       "      <td>7018</td>\n",
       "      <td>1/1/2018 0:47</td>\n",
       "      <td>Bremner Blvd / Rees St</td>\n",
       "      <td>1/1/2018 0:54</td>\n",
       "      <td>7176</td>\n",
       "      <td>Bathurst St / Fort York Blvd</td>\n",
       "      <td>Annual Member</td>\n",
       "      <td>different point</td>\n",
       "    </tr>\n",
       "    <tr>\n",
       "      <th>1</th>\n",
       "      <td>2383649</td>\n",
       "      <td>625</td>\n",
       "      <td>7184</td>\n",
       "      <td>1/1/2018 0:52</td>\n",
       "      <td>Ossington Ave / College St</td>\n",
       "      <td>1/1/2018 1:03</td>\n",
       "      <td>7191</td>\n",
       "      <td>Central Tech  (Harbord St)</td>\n",
       "      <td>Annual Member</td>\n",
       "      <td>different point</td>\n",
       "    </tr>\n",
       "    <tr>\n",
       "      <th>2</th>\n",
       "      <td>2383650</td>\n",
       "      <td>233</td>\n",
       "      <td>7235</td>\n",
       "      <td>1/1/2018 0:55</td>\n",
       "      <td>Bay St / College St (West Side) - SMART</td>\n",
       "      <td>1/1/2018 0:59</td>\n",
       "      <td>7021</td>\n",
       "      <td>Bay St / Albert St</td>\n",
       "      <td>Annual Member</td>\n",
       "      <td>different point</td>\n",
       "    </tr>\n",
       "    <tr>\n",
       "      <th>3</th>\n",
       "      <td>2383651</td>\n",
       "      <td>1138</td>\n",
       "      <td>7202</td>\n",
       "      <td>1/1/2018 0:57</td>\n",
       "      <td>Queen St W / York St (City Hall)</td>\n",
       "      <td>1/1/2018 1:16</td>\n",
       "      <td>7020</td>\n",
       "      <td>Phoebe St / Spadina Ave</td>\n",
       "      <td>Annual Member</td>\n",
       "      <td>different point</td>\n",
       "    </tr>\n",
       "    <tr>\n",
       "      <th>4</th>\n",
       "      <td>2383652</td>\n",
       "      <td>703</td>\n",
       "      <td>7004</td>\n",
       "      <td>1/1/2018 1:00</td>\n",
       "      <td>University Ave / Elm St</td>\n",
       "      <td>1/1/2018 1:12</td>\n",
       "      <td>7060</td>\n",
       "      <td>Princess St / Adelaide St E</td>\n",
       "      <td>Annual Member</td>\n",
       "      <td>different point</td>\n",
       "    </tr>\n",
       "  </tbody>\n",
       "</table>\n",
       "</div>"
      ],
      "text/plain": [
       "   trip_id  trip_duration_seconds  from_station_id trip_start_time  \\\n",
       "0  2383648                    393             7018   1/1/2018 0:47   \n",
       "1  2383649                    625             7184   1/1/2018 0:52   \n",
       "2  2383650                    233             7235   1/1/2018 0:55   \n",
       "3  2383651                   1138             7202   1/1/2018 0:57   \n",
       "4  2383652                    703             7004   1/1/2018 1:00   \n",
       "\n",
       "                         from_station_name trip_stop_time  to_station_id  \\\n",
       "0                   Bremner Blvd / Rees St  1/1/2018 0:54           7176   \n",
       "1               Ossington Ave / College St  1/1/2018 1:03           7191   \n",
       "2  Bay St / College St (West Side) - SMART  1/1/2018 0:59           7021   \n",
       "3         Queen St W / York St (City Hall)  1/1/2018 1:16           7020   \n",
       "4                  University Ave / Elm St  1/1/2018 1:12           7060   \n",
       "\n",
       "                to_station_name      user_type     Return point  \n",
       "0  Bathurst St / Fort York Blvd  Annual Member  different point  \n",
       "1    Central Tech  (Harbord St)  Annual Member  different point  \n",
       "2            Bay St / Albert St  Annual Member  different point  \n",
       "3       Phoebe St / Spadina Ave  Annual Member  different point  \n",
       "4   Princess St / Adelaide St E  Annual Member  different point  "
      ]
     },
     "execution_count": 67,
     "metadata": {},
     "output_type": "execute_result"
    }
   ],
   "source": [
    "toronto = [q1_2018, q2_2018, q3_2018, q4_2018]\n",
    "bike_share_2018 = pd.concat(toronto)\n",
    "bike_share_2018.head()"
   ]
  },
  {
   "cell_type": "code",
   "execution_count": 68,
   "metadata": {},
   "outputs": [],
   "source": [
    "route_station_2018_concat = np.where(bike_share_2018['from_station_id'] ==bike_share_2018['to_station_id'], 'Init point', 'different point')"
   ]
  },
  {
   "cell_type": "code",
   "execution_count": 69,
   "metadata": {},
   "outputs": [
    {
     "data": {
      "text/plain": [
       "array(['different point', 'different point', 'different point', ...,\n",
       "       'different point', 'different point', 'different point'],\n",
       "      dtype='<U15')"
      ]
     },
     "execution_count": 69,
     "metadata": {},
     "output_type": "execute_result"
    }
   ],
   "source": [
    "route_station_2018_concat "
   ]
  },
  {
   "cell_type": "code",
   "execution_count": 70,
   "metadata": {},
   "outputs": [],
   "source": [
    "bike_share_2018['Return point'] = route_station_2018_concat "
   ]
  },
  {
   "cell_type": "code",
   "execution_count": 71,
   "metadata": {},
   "outputs": [],
   "source": [
    "return_point_2018_concat = bike_share_2018['Return point'].value_counts()"
   ]
  },
  {
   "cell_type": "code",
   "execution_count": 72,
   "metadata": {},
   "outputs": [
    {
     "data": {
      "text/plain": [
       "different point    1865688\n",
       "Init point           57267\n",
       "Name: Return point, dtype: int64"
      ]
     },
     "execution_count": 72,
     "metadata": {},
     "output_type": "execute_result"
    }
   ],
   "source": [
    "return_point_2018_concat "
   ]
  },
  {
   "cell_type": "code",
   "execution_count": 73,
   "metadata": {},
   "outputs": [],
   "source": [
    "All_bike_2018 = bike_share_2018['Return point'].count()\n",
    "Init_bike_2018 = return_point_2018_concat['Init point']\n",
    "bike_returned_2018 = (Init_bike_2018/All_bike_2018)*100"
   ]
  },
  {
   "cell_type": "code",
   "execution_count": 74,
   "metadata": {},
   "outputs": [
    {
     "name": "stdout",
     "output_type": "stream",
     "text": [
      "Percentage of all Quarter 2018\n",
      "Q1 2018 : 1.29 %\n",
      "Q2 2018 : 3.56 %\n",
      "Q3 2018 : 3.63 %\n",
      "Q4 2018 : 1.43 %\n"
     ]
    }
   ],
   "source": [
    "print('Percentage of all Quarter 2018')\n",
    "print('Q1 2018 : %.2f' %bike_returned_2018_1, '%')  \n",
    "print('Q2 2018 : %.2f' %bike_returned_2018_2, '%')  \n",
    "print('Q3 2018 : %.2f' %bike_returned_2018_3, '%')  \n",
    "print('Q4 2018 : %.2f' %bike_returned_2018_4, '%')  "
   ]
  },
  {
   "cell_type": "code",
   "execution_count": 75,
   "metadata": {},
   "outputs": [
    {
     "name": "stdout",
     "output_type": "stream",
     "text": [
      "Percentage of 2018 is 2.98 %\n"
     ]
    }
   ],
   "source": [
    "print('Percentage of 2018 is %.2f' %bike_returned_2018, '%' )"
   ]
  },
  {
   "cell_type": "markdown",
   "metadata": {},
   "source": [
    "b. How many bikeshare trips usually\n",
    "visit more than just start/end points,\n",
    "but visited some other points before\n",
    "the end of the day?"
   ]
  },
  {
   "cell_type": "markdown",
   "metadata": {},
   "source": [
    "2017"
   ]
  },
  {
   "cell_type": "code",
   "execution_count": 55,
   "metadata": {},
   "outputs": [],
   "source": [
    "bike_share_2017['trip_start_time'] = pd.to_datetime(bike_share_2017['trip_start_time'])"
   ]
  },
  {
   "cell_type": "code",
   "execution_count": 57,
   "metadata": {},
   "outputs": [],
   "source": [
    "bike_share_2017['trip_stop_time'] = pd.to_datetime(bike_share_2017['trip_stop_time'], errors='coerce')"
   ]
  },
  {
   "cell_type": "code",
   "execution_count": 42,
   "metadata": {},
   "outputs": [],
   "source": [
    "bike_share_2017['day_start'] = bike_share_2017['trip_start_time'].apply(lambda time: time.dayofweek)\n",
    "bike_share_2017['day_stop'] = bike_share_2017['trip_stop_time'].apply(lambda time: time.dayofweek)"
   ]
  },
  {
   "cell_type": "code",
   "execution_count": 43,
   "metadata": {},
   "outputs": [],
   "source": [
    "day = {0:'Mon',1:'Tue',2:'Wed',3:'Thu',4:'Fri',5:'Sat',6:'Sun'}\n",
    "bike_share_2017['day_start'] = bike_share_2017['day_start'].map(day)\n",
    "bike_share_2017['day_stop'] = bike_share_2017['day_stop'].map(day)"
   ]
  },
  {
   "cell_type": "code",
   "execution_count": 44,
   "metadata": {},
   "outputs": [
    {
     "data": {
      "text/html": [
       "<div>\n",
       "<style scoped>\n",
       "    .dataframe tbody tr th:only-of-type {\n",
       "        vertical-align: middle;\n",
       "    }\n",
       "\n",
       "    .dataframe tbody tr th {\n",
       "        vertical-align: top;\n",
       "    }\n",
       "\n",
       "    .dataframe thead th {\n",
       "        text-align: right;\n",
       "    }\n",
       "</style>\n",
       "<table border=\"1\" class=\"dataframe\">\n",
       "  <thead>\n",
       "    <tr style=\"text-align: right;\">\n",
       "      <th></th>\n",
       "      <th>trip_id</th>\n",
       "      <th>trip_start_time</th>\n",
       "      <th>trip_stop_time</th>\n",
       "      <th>trip_duration_seconds</th>\n",
       "      <th>from_station_id</th>\n",
       "      <th>from_station_name</th>\n",
       "      <th>to_station_id</th>\n",
       "      <th>to_station_name</th>\n",
       "      <th>user_type</th>\n",
       "      <th>Return point</th>\n",
       "      <th>day_start</th>\n",
       "      <th>day_stop</th>\n",
       "    </tr>\n",
       "  </thead>\n",
       "  <tbody>\n",
       "    <tr>\n",
       "      <th>0</th>\n",
       "      <td>712382</td>\n",
       "      <td>2017-01-01 00:00:00</td>\n",
       "      <td>2017-01-01 00:03:00</td>\n",
       "      <td>223</td>\n",
       "      <td>7051.0</td>\n",
       "      <td>Wellesley St E / Yonge St Green P</td>\n",
       "      <td>7089.0</td>\n",
       "      <td>Church St  / Wood St</td>\n",
       "      <td>Member</td>\n",
       "      <td>different point</td>\n",
       "      <td>Sun</td>\n",
       "      <td>Sun</td>\n",
       "    </tr>\n",
       "    <tr>\n",
       "      <th>1</th>\n",
       "      <td>712383</td>\n",
       "      <td>2017-01-01 00:00:00</td>\n",
       "      <td>2017-01-01 00:05:00</td>\n",
       "      <td>279</td>\n",
       "      <td>7143.0</td>\n",
       "      <td>Kendal Ave / Bernard Ave</td>\n",
       "      <td>7154.0</td>\n",
       "      <td>Bathurst Subway Station</td>\n",
       "      <td>Member</td>\n",
       "      <td>different point</td>\n",
       "      <td>Sun</td>\n",
       "      <td>Sun</td>\n",
       "    </tr>\n",
       "    <tr>\n",
       "      <th>2</th>\n",
       "      <td>712384</td>\n",
       "      <td>2017-01-01 00:05:00</td>\n",
       "      <td>2017-01-01 00:29:00</td>\n",
       "      <td>1394</td>\n",
       "      <td>7113.0</td>\n",
       "      <td>Parliament St / Aberdeen Ave</td>\n",
       "      <td>7199.0</td>\n",
       "      <td>College St W / Markham St</td>\n",
       "      <td>Member</td>\n",
       "      <td>different point</td>\n",
       "      <td>Sun</td>\n",
       "      <td>Sun</td>\n",
       "    </tr>\n",
       "    <tr>\n",
       "      <th>3</th>\n",
       "      <td>712385</td>\n",
       "      <td>2017-01-01 00:07:00</td>\n",
       "      <td>2017-01-01 00:21:00</td>\n",
       "      <td>826</td>\n",
       "      <td>7077.0</td>\n",
       "      <td>College Park South</td>\n",
       "      <td>7010.0</td>\n",
       "      <td>King St W / Spadina Ave</td>\n",
       "      <td>Member</td>\n",
       "      <td>different point</td>\n",
       "      <td>Sun</td>\n",
       "      <td>Sun</td>\n",
       "    </tr>\n",
       "    <tr>\n",
       "      <th>4</th>\n",
       "      <td>712386</td>\n",
       "      <td>2017-01-01 00:08:00</td>\n",
       "      <td>2017-01-01 00:12:00</td>\n",
       "      <td>279</td>\n",
       "      <td>7079.0</td>\n",
       "      <td>McGill St / Church St</td>\n",
       "      <td>7047.0</td>\n",
       "      <td>University Ave / Gerrard St W</td>\n",
       "      <td>Member</td>\n",
       "      <td>different point</td>\n",
       "      <td>Sun</td>\n",
       "      <td>Sun</td>\n",
       "    </tr>\n",
       "  </tbody>\n",
       "</table>\n",
       "</div>"
      ],
      "text/plain": [
       "   trip_id     trip_start_time      trip_stop_time  trip_duration_seconds  \\\n",
       "0   712382 2017-01-01 00:00:00 2017-01-01 00:03:00                    223   \n",
       "1   712383 2017-01-01 00:00:00 2017-01-01 00:05:00                    279   \n",
       "2   712384 2017-01-01 00:05:00 2017-01-01 00:29:00                   1394   \n",
       "3   712385 2017-01-01 00:07:00 2017-01-01 00:21:00                    826   \n",
       "4   712386 2017-01-01 00:08:00 2017-01-01 00:12:00                    279   \n",
       "\n",
       "   from_station_id                  from_station_name  to_station_id  \\\n",
       "0           7051.0  Wellesley St E / Yonge St Green P         7089.0   \n",
       "1           7143.0           Kendal Ave / Bernard Ave         7154.0   \n",
       "2           7113.0       Parliament St / Aberdeen Ave         7199.0   \n",
       "3           7077.0                 College Park South         7010.0   \n",
       "4           7079.0              McGill St / Church St         7047.0   \n",
       "\n",
       "                 to_station_name user_type     Return point day_start day_stop  \n",
       "0           Church St  / Wood St    Member  different point       Sun      Sun  \n",
       "1        Bathurst Subway Station    Member  different point       Sun      Sun  \n",
       "2      College St W / Markham St    Member  different point       Sun      Sun  \n",
       "3        King St W / Spadina Ave    Member  different point       Sun      Sun  \n",
       "4  University Ave / Gerrard St W    Member  different point       Sun      Sun  "
      ]
     },
     "execution_count": 44,
     "metadata": {},
     "output_type": "execute_result"
    }
   ],
   "source": [
    "bike_share_2017.head()"
   ]
  },
  {
   "cell_type": "code",
   "execution_count": 45,
   "metadata": {},
   "outputs": [],
   "source": [
    "date_time_2017_concat = np.where(bike_share_2017['day_start'] ==bike_share_2017['day_stop'], 'Before The End of The Day', 'After The End of The Day')"
   ]
  },
  {
   "cell_type": "code",
   "execution_count": 46,
   "metadata": {},
   "outputs": [
    {
     "data": {
      "text/plain": [
       "array(['Before The End of The Day', 'Before The End of The Day',\n",
       "       'Before The End of The Day', ..., 'Before The End of The Day',\n",
       "       'Before The End of The Day', 'Before The End of The Day'],\n",
       "      dtype='<U25')"
      ]
     },
     "execution_count": 46,
     "metadata": {},
     "output_type": "execute_result"
    }
   ],
   "source": [
    "date_time_2017_concat"
   ]
  },
  {
   "cell_type": "code",
   "execution_count": 47,
   "metadata": {},
   "outputs": [],
   "source": [
    "bike_share_2017['Time Return'] = date_time_2017_concat "
   ]
  },
  {
   "cell_type": "code",
   "execution_count": 48,
   "metadata": {},
   "outputs": [],
   "source": [
    "date_time_2017_concat = bike_share_2017['Time Return'].value_counts()"
   ]
  },
  {
   "cell_type": "code",
   "execution_count": 49,
   "metadata": {},
   "outputs": [
    {
     "data": {
      "text/plain": [
       "Before The End of The Day    1481217\n",
       "After The End of The Day       11152\n",
       "Name: Time Return, dtype: int64"
      ]
     },
     "execution_count": 49,
     "metadata": {},
     "output_type": "execute_result"
    }
   ],
   "source": [
    "date_time_2017_concat"
   ]
  },
  {
   "cell_type": "code",
   "execution_count": 50,
   "metadata": {},
   "outputs": [],
   "source": [
    "All_time_bike_2017 = bike_share_2017['Time Return'].count()\n",
    "Before_TEoTD_bike_2017 = date_time_2017_concat['Before The End of The Day']\n",
    "bike_time_returned_2017 = (Before_TEoTD_bike_2017 /All_time_bike_2017)*100"
   ]
  },
  {
   "cell_type": "code",
   "execution_count": 51,
   "metadata": {},
   "outputs": [
    {
     "name": "stdout",
     "output_type": "stream",
     "text": [
      "Percentage Time Returned Before The End of The Day of 2017 is 99.25 %\n"
     ]
    }
   ],
   "source": [
    "print('Percentage Time Returned Before The End of The Day of 2017 is %.2f' %bike_time_returned_2017 , '%' )"
   ]
  },
  {
   "cell_type": "markdown",
   "metadata": {},
   "source": [
    "2018"
   ]
  },
  {
   "cell_type": "code",
   "execution_count": 76,
   "metadata": {},
   "outputs": [],
   "source": [
    "bike_share_2018['trip_start_time'] = pd.to_datetime(bike_share_2018['trip_start_time'])\n",
    "bike_share_2018['trip_stop_time'] = pd.to_datetime(bike_share_2018['trip_stop_time'])"
   ]
  },
  {
   "cell_type": "code",
   "execution_count": 77,
   "metadata": {},
   "outputs": [],
   "source": [
    "bike_share_2018['day_start'] = bike_share_2018['trip_start_time'].apply(lambda time: time.dayofweek)\n",
    "bike_share_2018['day_stop'] = bike_share_2018['trip_stop_time'].apply(lambda time: time.dayofweek)"
   ]
  },
  {
   "cell_type": "code",
   "execution_count": 78,
   "metadata": {},
   "outputs": [],
   "source": [
    "day = {0:'Mon',1:'Tue',2:'Wed',3:'Thu',4:'Fri',5:'Sat',6:'Sun'}\n",
    "bike_share_2018['day_start'] = bike_share_2018['day_start'].map(day)\n",
    "bike_share_2018['day_stop'] = bike_share_2018['day_stop'].map(day)"
   ]
  },
  {
   "cell_type": "code",
   "execution_count": 79,
   "metadata": {},
   "outputs": [
    {
     "data": {
      "text/html": [
       "<div>\n",
       "<style scoped>\n",
       "    .dataframe tbody tr th:only-of-type {\n",
       "        vertical-align: middle;\n",
       "    }\n",
       "\n",
       "    .dataframe tbody tr th {\n",
       "        vertical-align: top;\n",
       "    }\n",
       "\n",
       "    .dataframe thead th {\n",
       "        text-align: right;\n",
       "    }\n",
       "</style>\n",
       "<table border=\"1\" class=\"dataframe\">\n",
       "  <thead>\n",
       "    <tr style=\"text-align: right;\">\n",
       "      <th></th>\n",
       "      <th>trip_id</th>\n",
       "      <th>trip_duration_seconds</th>\n",
       "      <th>from_station_id</th>\n",
       "      <th>trip_start_time</th>\n",
       "      <th>from_station_name</th>\n",
       "      <th>trip_stop_time</th>\n",
       "      <th>to_station_id</th>\n",
       "      <th>to_station_name</th>\n",
       "      <th>user_type</th>\n",
       "      <th>Return point</th>\n",
       "      <th>day_start</th>\n",
       "      <th>day_stop</th>\n",
       "    </tr>\n",
       "  </thead>\n",
       "  <tbody>\n",
       "    <tr>\n",
       "      <th>0</th>\n",
       "      <td>2383648</td>\n",
       "      <td>393</td>\n",
       "      <td>7018</td>\n",
       "      <td>2018-01-01 00:47:00</td>\n",
       "      <td>Bremner Blvd / Rees St</td>\n",
       "      <td>2018-01-01 00:54:00</td>\n",
       "      <td>7176</td>\n",
       "      <td>Bathurst St / Fort York Blvd</td>\n",
       "      <td>Annual Member</td>\n",
       "      <td>different point</td>\n",
       "      <td>Mon</td>\n",
       "      <td>Mon</td>\n",
       "    </tr>\n",
       "    <tr>\n",
       "      <th>1</th>\n",
       "      <td>2383649</td>\n",
       "      <td>625</td>\n",
       "      <td>7184</td>\n",
       "      <td>2018-01-01 00:52:00</td>\n",
       "      <td>Ossington Ave / College St</td>\n",
       "      <td>2018-01-01 01:03:00</td>\n",
       "      <td>7191</td>\n",
       "      <td>Central Tech  (Harbord St)</td>\n",
       "      <td>Annual Member</td>\n",
       "      <td>different point</td>\n",
       "      <td>Mon</td>\n",
       "      <td>Mon</td>\n",
       "    </tr>\n",
       "    <tr>\n",
       "      <th>2</th>\n",
       "      <td>2383650</td>\n",
       "      <td>233</td>\n",
       "      <td>7235</td>\n",
       "      <td>2018-01-01 00:55:00</td>\n",
       "      <td>Bay St / College St (West Side) - SMART</td>\n",
       "      <td>2018-01-01 00:59:00</td>\n",
       "      <td>7021</td>\n",
       "      <td>Bay St / Albert St</td>\n",
       "      <td>Annual Member</td>\n",
       "      <td>different point</td>\n",
       "      <td>Mon</td>\n",
       "      <td>Mon</td>\n",
       "    </tr>\n",
       "    <tr>\n",
       "      <th>3</th>\n",
       "      <td>2383651</td>\n",
       "      <td>1138</td>\n",
       "      <td>7202</td>\n",
       "      <td>2018-01-01 00:57:00</td>\n",
       "      <td>Queen St W / York St (City Hall)</td>\n",
       "      <td>2018-01-01 01:16:00</td>\n",
       "      <td>7020</td>\n",
       "      <td>Phoebe St / Spadina Ave</td>\n",
       "      <td>Annual Member</td>\n",
       "      <td>different point</td>\n",
       "      <td>Mon</td>\n",
       "      <td>Mon</td>\n",
       "    </tr>\n",
       "    <tr>\n",
       "      <th>4</th>\n",
       "      <td>2383652</td>\n",
       "      <td>703</td>\n",
       "      <td>7004</td>\n",
       "      <td>2018-01-01 01:00:00</td>\n",
       "      <td>University Ave / Elm St</td>\n",
       "      <td>2018-01-01 01:12:00</td>\n",
       "      <td>7060</td>\n",
       "      <td>Princess St / Adelaide St E</td>\n",
       "      <td>Annual Member</td>\n",
       "      <td>different point</td>\n",
       "      <td>Mon</td>\n",
       "      <td>Mon</td>\n",
       "    </tr>\n",
       "  </tbody>\n",
       "</table>\n",
       "</div>"
      ],
      "text/plain": [
       "   trip_id  trip_duration_seconds  from_station_id     trip_start_time  \\\n",
       "0  2383648                    393             7018 2018-01-01 00:47:00   \n",
       "1  2383649                    625             7184 2018-01-01 00:52:00   \n",
       "2  2383650                    233             7235 2018-01-01 00:55:00   \n",
       "3  2383651                   1138             7202 2018-01-01 00:57:00   \n",
       "4  2383652                    703             7004 2018-01-01 01:00:00   \n",
       "\n",
       "                         from_station_name      trip_stop_time  to_station_id  \\\n",
       "0                   Bremner Blvd / Rees St 2018-01-01 00:54:00           7176   \n",
       "1               Ossington Ave / College St 2018-01-01 01:03:00           7191   \n",
       "2  Bay St / College St (West Side) - SMART 2018-01-01 00:59:00           7021   \n",
       "3         Queen St W / York St (City Hall) 2018-01-01 01:16:00           7020   \n",
       "4                  University Ave / Elm St 2018-01-01 01:12:00           7060   \n",
       "\n",
       "                to_station_name      user_type     Return point day_start  \\\n",
       "0  Bathurst St / Fort York Blvd  Annual Member  different point       Mon   \n",
       "1    Central Tech  (Harbord St)  Annual Member  different point       Mon   \n",
       "2            Bay St / Albert St  Annual Member  different point       Mon   \n",
       "3       Phoebe St / Spadina Ave  Annual Member  different point       Mon   \n",
       "4   Princess St / Adelaide St E  Annual Member  different point       Mon   \n",
       "\n",
       "  day_stop  \n",
       "0      Mon  \n",
       "1      Mon  \n",
       "2      Mon  \n",
       "3      Mon  \n",
       "4      Mon  "
      ]
     },
     "execution_count": 79,
     "metadata": {},
     "output_type": "execute_result"
    }
   ],
   "source": [
    "bike_share_2018.head()"
   ]
  },
  {
   "cell_type": "code",
   "execution_count": 80,
   "metadata": {},
   "outputs": [],
   "source": [
    "date_time_2018_concat = np.where(bike_share_2018['day_start'] ==bike_share_2018['day_stop'], 'Before The End of The Day', 'After The End of The Day')"
   ]
  },
  {
   "cell_type": "code",
   "execution_count": 81,
   "metadata": {},
   "outputs": [
    {
     "data": {
      "text/plain": [
       "array(['Before The End of The Day', 'Before The End of The Day',\n",
       "       'Before The End of The Day', ..., 'Before The End of The Day',\n",
       "       'After The End of The Day', 'After The End of The Day'],\n",
       "      dtype='<U25')"
      ]
     },
     "execution_count": 81,
     "metadata": {},
     "output_type": "execute_result"
    }
   ],
   "source": [
    "date_time_2018_concat"
   ]
  },
  {
   "cell_type": "code",
   "execution_count": 82,
   "metadata": {},
   "outputs": [],
   "source": [
    "bike_share_2018['Time Return'] = date_time_2018_concat "
   ]
  },
  {
   "cell_type": "code",
   "execution_count": 83,
   "metadata": {},
   "outputs": [],
   "source": [
    "date_time_2018_concat = bike_share_2018['Time Return'].value_counts()"
   ]
  },
  {
   "cell_type": "code",
   "execution_count": 84,
   "metadata": {},
   "outputs": [
    {
     "data": {
      "text/plain": [
       "Before The End of The Day    1915558\n",
       "After The End of The Day        7397\n",
       "Name: Time Return, dtype: int64"
      ]
     },
     "execution_count": 84,
     "metadata": {},
     "output_type": "execute_result"
    }
   ],
   "source": [
    "date_time_2018_concat"
   ]
  },
  {
   "cell_type": "code",
   "execution_count": 85,
   "metadata": {},
   "outputs": [],
   "source": [
    "All_time_bike_2018 = bike_share_2018['Time Return'].count()\n",
    "Before_TEoTD_bike_2018 = date_time_2018_concat['Before The End of The Day']\n",
    "bike_time_returned_2018 = (Before_TEoTD_bike_2018 /All_time_bike_2018)*100"
   ]
  },
  {
   "cell_type": "code",
   "execution_count": 86,
   "metadata": {},
   "outputs": [
    {
     "name": "stdout",
     "output_type": "stream",
     "text": [
      "Percentage Time Returned Before The End of The Day of 2018 is 99.62 %\n"
     ]
    }
   ],
   "source": [
    "print('Percentage Time Returned Before The End of The Day of 2018 is %.2f' %bike_time_returned_2018 , '%' )"
   ]
  },
  {
   "cell_type": "code",
   "execution_count": null,
   "metadata": {},
   "outputs": [],
   "source": []
  }
 ],
 "metadata": {
  "kernelspec": {
   "display_name": "Python 3",
   "language": "python",
   "name": "python3"
  },
  "language_info": {
   "codemirror_mode": {
    "name": "ipython",
    "version": 3
   },
   "file_extension": ".py",
   "mimetype": "text/x-python",
   "name": "python",
   "nbconvert_exporter": "python",
   "pygments_lexer": "ipython3",
   "version": "3.8.3"
  }
 },
 "nbformat": 4,
 "nbformat_minor": 4
}
